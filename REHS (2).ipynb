{
 "cells": [
  {
   "cell_type": "markdown",
   "metadata": {},
   "source": [
    "# [Fannie Mae Single-Family Loan Performance Data](https://www.fanniemae.com/portal/funding-the-market/data/loan-performance-data.html)"
   ]
  },
  {
   "cell_type": "markdown",
   "metadata": {},
   "source": [
    "## About the Dataset\n",
    "\n",
    "| Data Subset | Size of Compressed Dataset (GB) | Size of Uncompressed Dataset (GB) | Size of Acquistion Dataset (GB) | Size of Performance Dataset (GB) | Number of Loans (Millions) | Number of Performance Records (Billions) |\n",
    "| ------- | ----------------------------- | ---------------------------- | -------- | ----------| ---------------- | ---------------------------------------- |\n",
    "| mortgage_2000      | 0.45 | 3.9 | 0.137 | 3.7 | 1.21 | 0.036 |\n",
    "| mortgage_2000-2001 | 1.9 | 16 | 0.473 | 16 | 4.22 | 0.148 |\n",
    "| mortgage_2000-2003 | 9.3 | 78 | 1.5 | 76 | 13.5 | 0.743 |\n",
    "| mortgage_2000-2007 | 15 | 117 | 2.1 | 115 | 19.1 | 1.12 |\n",
    "| mortgage_2000-2015 | 23 | 192 | 3.8 | 188 | 34.7 | 1.85 |\n",
    "| mortgage_2000-2016 | 24 | 196 | 4.1 | 192 | 37.0 | 1.89 |"
   ]
  },
  {
   "cell_type": "markdown",
   "metadata": {},
   "source": [
    "## Import Python Modules"
   ]
  },
  {
   "cell_type": "code",
   "execution_count": 1,
   "metadata": {},
   "outputs": [],
   "source": [
    "# Import all of the python modules from The Python Standard Library\n",
    "# required to run the notebook.\n",
    "\n",
    "import os\n",
    "import glob\n",
    "import collections #hello"
   ]
  },
  {
   "cell_type": "code",
   "execution_count": 2,
   "metadata": {},
   "outputs": [],
   "source": [
    "# Import all standard data science and machine learning python modules \n",
    "# required to run the notebook.\n",
    "\n",
    "import dask\n",
    "import dask.dataframe\n",
    "import dask.distributed\n",
    "#import matplotlib\n",
    "import numpy\n",
    "import pandas\n",
    "import sklearn"
   ]
  },
  {
   "cell_type": "code",
   "execution_count": 3,
   "metadata": {},
   "outputs": [],
   "source": [
    "# Import NVIDIA's new RAPIDS python modules designed to perform \n",
    "# GPU-acclerated data science and machine learning tasks.\n",
    "\n",
    "#import cudf\n",
    "#import cuml  #delete"
   ]
  },
  {
   "cell_type": "markdown",
   "metadata": {},
   "source": [
    "## Configure Notebook"
   ]
  },
  {
   "cell_type": "code",
   "execution_count": 4,
   "metadata": {},
   "outputs": [],
   "source": [
    "# Define system environment variables\n",
    "#USER = os.environ['USER']\n",
    "USER = \"caolinnh\""
   ]
  },
  {
   "cell_type": "code",
   "execution_count": 5,
   "metadata": {},
   "outputs": [
    {
     "name": "stdout",
     "output_type": "stream",
     "text": [
      "/caolinnh/REHS_code\n"
     ]
    }
   ],
   "source": [
    "# Define a path to the top-level directory of a local or network\n",
    "# filesystem that is available and accessible to you on the system \n",
    "# where you are running the notebook.\n",
    "\n",
    "DATA_ROOT_DIR = os.path.join('/home', '/caolinnh/REHS_code')\n",
    "print(DATA_ROOT_DIR)\n",
    "\n"
   ]
  },
  {
   "cell_type": "code",
   "execution_count": 6,
   "metadata": {},
   "outputs": [],
   "source": [
    "# Choose which version of the Fannie Mae Single-Family Loan \n",
    "# Performance (SFLP) dataset you wish to analyze.\n",
    "\n",
    "SFLP_DATASET = 'dataJup'"
   ]
  },
  {
   "cell_type": "code",
   "execution_count": 7,
   "metadata": {},
   "outputs": [
    {
     "name": "stdout",
     "output_type": "stream",
     "text": [
      "/home/caolinnh/REHS_code/dataJup\n"
     ]
    }
   ],
   "source": [
    "# Define a path to the directory of the filesystem where you want to \n",
    "# download the compressed SFLP dataset, extract it into its uncompressed\n",
    "# form, and store for your analysis.\n",
    "\n",
    "SFLP_DATASET_DIR = os.path.join(DATA_ROOT_DIR, \n",
    "                                '/home/caolinnh/REHS_code',\n",
    "                                SFLP_DATASET)\n",
    "print(SFLP_DATASET_DIR)"
   ]
  },
  {
   "cell_type": "code",
   "execution_count": 8,
   "metadata": {},
   "outputs": [
    {
     "name": "stdout",
     "output_type": "stream",
     "text": [
      "/home/caolinnh/REHS_code/dataJup\n",
      "/home/caolinnh/REHS_code/dataJup/SQUEUE\n"
     ]
    }
   ],
   "source": [
    "# Define the two paths to the subdirectories where the loan acquisition\n",
    "# and performance datasets will be and/or are stored.\n",
    "\n",
    "SFLP_SQUEUE_DATA_DIR = os.path.join(SFLP_DATASET_DIR + '/SQUEUE')\n",
    "SFLP_SACCT_DATA_DIR = os.path.join(SFLP_DATASET_DIR +'/SACCT')\n",
    "print(SFLP_DATASET_DIR)\n",
    "print(SFLP_SQUEUE_DATA_DIR)"
   ]
  },
  {
   "cell_type": "markdown",
   "metadata": {},
   "source": [
    "## Download and Extract Dataset"
   ]
  },
  {
   "cell_type": "code",
   "execution_count": 34,
   "metadata": {},
   "outputs": [
    {
     "name": "stdout",
     "output_type": "stream",
     "text": [
      "SFLP dataset directory already exists. Check if dataset is already available.\n"
     ]
    }
   ],
   "source": [
    "# Download the compressed SFLP dataset and extract it into its \n",
    "# uncompressed form, if it's not already available on the system where\n",
    "# you're running the notebook.\n",
    "\n",
    "#SFLP_DATA_ROOT_URL = 'http://rapidsai-data.s3-website.us-east-2.amazonaws.com/notebook-mortgage-data'\n",
    "if not os.path.exists(SFLP_DATASET_DIR):\n",
    "    os.makedirs(SFLP_DATASET_DIR)\n",
    "    os.chdir(SFLP_DATASET_DIR)\n",
    "    #os.system('wget ' + SFLP_DATA_ROOT_URL + '/' + SFLP_DATASET + '.tgz')\n",
    "    os.system('tar -xf ' + SFLP_DATASET + '.tgz')\n",
    "    print('SFLP dataset downloaded and extracted.')\n",
    "else:\n",
    "    print('SFLP dataset directory already exists. Check if dataset is already available.')"
   ]
  },
  {
   "cell_type": "code",
   "execution_count": 35,
   "metadata": {},
   "outputs": [
    {
     "name": "stdout",
     "output_type": "stream",
     "text": [
      "['SACCT', 'SQUEUE']\n"
     ]
    }
   ],
   "source": [
    "# Check the contents of SFLP dataset directory.\n",
    "\n",
    "print(os.listdir(SFLP_DATASET_DIR))"
   ]
  },
  {
   "cell_type": "markdown",
   "metadata": {},
   "source": [
    "## Dataset Preparation and Loading"
   ]
  },
  {
   "cell_type": "markdown",
   "metadata": {},
   "source": [
    "### Set Analysis Interval"
   ]
  },
  {
   "cell_type": "code",
   "execution_count": 42,
   "metadata": {},
   "outputs": [],
   "source": [
    "# Select the first year and quarter to begin your analysis as well as\n",
    "# the last year and quarter to end your analysis.\n",
    "\n",
    "squeue_begin_day = 20190201\n",
    "squeue_end_day = 20190201\n",
    "squeue_interval = 1\n",
    "\n",
    "sacct_start_job = 18456165\n",
    "sacct_end_job = 20234782\n",
    "sacct_interval = 1000\n"
   ]
  },
  {
   "cell_type": "code",
   "execution_count": 43,
   "metadata": {},
   "outputs": [
    {
     "name": "stdout",
     "output_type": "stream",
     "text": [
      "['20190201']\n",
      "['1549079401-20190201-I-1']\n",
      "[18456165]\n",
      "/home/caolinnh/REHS_code/dataJup/SQUEUE\n",
      "/home/caolinnh/REHS_code/dataJup/SACCT\n"
     ]
    }
   ],
   "source": [
    "# Create two lists of all the quarterly loan acquisition and performance\n",
    "# data files from the SFLP dataset that are contained within the time \n",
    "# interval defined above.\n",
    "\n",
    "sflp_squeue_files = list()\n",
    "sflp_sacct_files = list()\n",
    "dateList = list()\n",
    "dayList = list()\n",
    "jobList = list()\n",
    "\n",
    "for i in range(squeue_begin_day, squeue_end_day + 1, squeue_interval):\n",
    "    dateList.append(str(i))\n",
    "                    \n",
    "print(dateList)\n",
    "    \n",
    "for (dirpath, dirnames, filenames) in os.walk(SFLP_SQUEUE_DATA_DIR) :\n",
    "    for filename in filenames:\n",
    "        for this in dateList:\n",
    "        #number = int(filename[11:19])\n",
    "            if this in str(filename) and (len(filename) > 14):\n",
    "                dayList.append(str(filename))\n",
    "\n",
    "print(dayList)\n",
    "\n",
    "\n",
    "for (dirpath, dirnames, filenames) in os.walk(SFLP_SACCT_DATA_DIR):\n",
    "    for filename in filenames:\n",
    "        number = int(filename[:8])\n",
    "        if (number in range(sacct_start_job, sacct_end_job)):\n",
    "            jobList.append(number)\n",
    "print(jobList)\n",
    "        \n",
    "    \n",
    "    # Determine the number of quarters in each year to analyze\n",
    "   #if (jobID == sflp_begin_year):\n",
    "      #  sflp_quarters = list(range(sflp_begin_quarter, 5))\n",
    "  #  elif (sflp_year == sflp_end_year):\n",
    "  #      sflp_quarters = list(range(1, sflp_end_quarter+1))\n",
    "  #  else:\n",
    " #       sflp_quarters = list(range(1, 5))\n",
    "        \n",
    "    # Get absolute path for each quarterly loan acquisition and \n",
    "    # performance data file\n",
    "for day in dayList:\n",
    "    sflp_squeue_files.extend(\n",
    "        glob.glob(\n",
    "            os.path.abspath(\n",
    "                os.path.join(SFLP_SQUEUE_DATA_DIR, day))))\n",
    "for job in jobList:\n",
    "    sflp_sacct_files.extend(\n",
    "        glob.glob(\n",
    "            os.path.abspath(\n",
    "                os.path.join(SFLP_SACCT_DATA_DIR, str(job) + \"-I-\" + str(sacct_interval) + '.txt'))))\n",
    "    \n",
    "    \n",
    "print(SFLP_SQUEUE_DATA_DIR)\n",
    "print(SFLP_SACCT_DATA_DIR)"
   ]
  },
  {
   "cell_type": "markdown",
   "metadata": {},
   "source": [
    "### SQUEUE Data"
   ]
  },
  {
   "cell_type": "code",
   "execution_count": 44,
   "metadata": {},
   "outputs": [
    {
     "name": "stdout",
     "output_type": "stream",
     "text": [
      "1549079401-20190201-I-1 131076717\n"
     ]
    }
   ],
   "source": [
    "# List all of the files from the SQUEUE dataset to be analyzed\n",
    "# as well as the size of each file in bytes.\n",
    "\n",
    "for sflp_squeue_file in sflp_squeue_files:\n",
    "    print(os.path.basename(sflp_squeue_file), os.stat(sflp_squeue_file).st_size)\n"
   ]
  },
  {
   "cell_type": "code",
   "execution_count": 45,
   "metadata": {},
   "outputs": [
    {
     "name": "stdout",
     "output_type": "stream",
     "text": [
      "1549079401|21290343|PENDING|mkandes|use300|gpu-shared|1|7|5G|gpu:p100:1|2019-02-01T16:47:32|2019-02-02T05:29:44|0.0|3.0|10361|Resources|n/a||/home/mkandes/software/other/ahnold/build/comet/molecular-dynamics/gromacs/build-gromacs-tmpi-cuda.slurm\n",
      "\n",
      "1549079401|21290385|PENDING|mkandes|use300|gpu-shared|1|7|5G|gpu:p100:1|2019-02-01T16:59:01|2019-02-02T05:30:46|0.0|3.0|10350|Priority|n/a||/home/mkandes/software/other/ahnold/build/comet/molecular-dynamics/gromacs/build-gromacs-tmpi-omp-cuda.slurm\n",
      "\n",
      "1549079401|21291549|PENDING|mkandes|use300|gpu-shared|1|7|5G|gpu:p100:1|2019-02-01T17:38:01|2019-02-02T06:10:57|0.0|3.0|10311|Priority|n/a||/home/mkandes/software/other/ahnold/build/comet/molecular-dynamics/gromacs/build-gromacs-mpi-omp-cuda.slurm\n",
      "\n"
     ]
    }
   ],
   "source": [
    "# Print the first few lines from the first loan acquisition data file.\n",
    "\n",
    "number_of_lines = 3\n",
    "with open(sflp_squeue_files[0], 'r') as sflp_squeue_file:\n",
    "    for x in range(number_of_lines):\n",
    "        print(sflp_squeue_file.readline())"
   ]
  },
  {
   "cell_type": "code",
   "execution_count": 50,
   "metadata": {},
   "outputs": [],
   "source": [
    "# Define an ordered dictionary of column datatypes for the SFLP loan \n",
    "# acquisition dataset.\n",
    "\n",
    "sflp_squeue_columns = collections.OrderedDict()\n",
    "sflp_squeue_columns['UNIX_TIME'] = 'object'\n",
    "sflp_squeue_columns['JOBID'] = 'category'\n",
    "sflp_squeue_columns['STATE'] = 'category'\n",
    "sflp_squeue_columns['USER'] = 'category'\n",
    "sflp_squeue_columns['ACCOUNT'] = 'category'\n",
    "sflp_squeue_columns['PARTITIAN'] = 'category'\n",
    "sflp_squeue_columns['NODES'] = 'Int64'\n",
    "sflp_squeue_columns['CPUSS'] ='Int64'\n",
    "sflp_squeue_columns['MIN_MEMORY'] = 'category' #check if this is correct\n",
    "sflp_squeue_columns['GRES'] = 'category'\n",
    "sflp_squeue_columns['SUBMIT_TIME'] = 'object'\n",
    "sflp_squeue_columns['START_TIME'] = 'object'\n",
    "sflp_squeue_columns['TIME'] = 'float64'\n",
    "sflp_squeue_columns['TIME_LIMIT'] = 'float64'\n",
    "sflp_squeue_columns['PRIORITY'] = 'object'\n",
    "sflp_squeue_columns['REASON'] = 'category'\n",
    "sflp_squeue_columns['EXEC_HOST'] = 'category'\n",
    "sflp_squeue_columns['NODELIST'] = 'category'\n",
    "sflp_squeue_columns['COMMAND'] = 'category'"
   ]
  },
  {
   "cell_type": "code",
   "execution_count": 53,
   "metadata": {},
   "outputs": [
    {
     "name": "stderr",
     "output_type": "stream",
     "text": [
      "distributed.comm.tcp - WARNING - Closing dangling stream in <TCP  local=tcp://127.0.0.1:33324 remote=tcp://127.0.0.1:36166>\n"
     ]
    },
    {
     "name": "stdout",
     "output_type": "stream",
     "text": [
      "['/home/caolinnh/REHS_code/dataJup/SQUEUE/1549079401-20190201-I-1']\n",
      "UNIX_TIME JOBID STATE USER ACCOUNT PARTITIAN NODES CPUSS MIN_MEMORY GRES SUBMIT_TIME START_TIME TIME TIME_LIMIT PRIORITY REASON EXEC_HOST NODELIST COMMAND\n"
     ]
    },
    {
     "name": "stderr",
     "output_type": "stream",
     "text": [
      
     ]
    },
    {
     "ename": "OSError",
     "evalue": "Timed out trying to connect to 'tcp://127.0.0.1:41504' after 10 s: Timed out trying to connect to 'tcp://127.0.0.1:41504' after 10 s: connect() didn't finish in time",
     "output_type": "error",
     "traceback": [
      "\u001b[0;31m---------------------------------------------------------------------------\u001b[0m",
      
     ]
    },
    {
     "name": "stderr",
     "output_type": "stream",
     "text": [
      
     ]
    }
   ],
   "source": [
    "%%time\n",
    "# Dask\n",
    "# \n",
    "# Read in all of the loan acquisition data into a Pandas DataFrame \n",
    "# (sflp_acq_pdf) via the distributed dask.dataframe.read_csv method.\n",
    "\n",
    "print(sflp_squeue_files)\n",
    "print(*sflp_squeue_columns.keys())\n",
    "\n",
    "dask_client = dask.distributed.Client(n_workers=26, threads_per_worker=1)\n",
    "\n",
    "sflp_squeue_ddf = dask.dataframe.read_csv(sflp_squeue_files, \n",
    "                                       names=[*sflp_squeue_columns.keys()], \n",
    "                                       delimiter=\"|\",\n",
    "                                       dtype= sflp_squeue_columns)\n",
    "sflp_squeue_ddf = dask_client.persist(sflp_squeue_ddf)\n",
    "sflp_squeue_pdf = sflp_squeue_ddf.compute()\n",
    "dask_client.close()"
   ]
  },
  {
   "cell_type": "code",
   "execution_count": 54,
   "metadata": {},
   "outputs": [
    {
     "data": {
      "text/plain": [
       "UNIX_TIME        object\n",
       "JOBID          category\n",
       "STATE          category\n",
       "USER           category\n",
       "ACCOUNT        category\n",
       "PARTITIAN      category\n",
       "NODES             Int64\n",
       "CPUSS             Int64\n",
       "MIN_MEMORY     category\n",
       "GRES           category\n",
       "SUBMIT_TIME      object\n",
       "START_TIME       object\n",
       "TIME             object\n",
       "TIME_LIMIT       object\n",
       "PRIORITY          Int64\n",
       "REASON         category\n",
       "EXEC_HOST      category\n",
       "NODELIST       category\n",
       "COMMAND        category\n",
       "dtype: object"
      ]
     },
     "execution_count": 54,
     "metadata": {},
     "output_type": "execute_result"
    },
    {
     "name": "stderr",
     "output_type": "stream",
     "text": [
      
     ]
    }
   ],
   "source": [
    "# Pandas\n",
    "#\n",
    "# Check datatypes of the loan acquisition Pandas DataFrame (sflp_acq_pdf).\n",
    "\n",
    "sflp_squeue_pdf.dtypes\n",
    "#print(sflp_squeue_pdf['TIME_LIMIT'])"
   ]
  },
  {
   "cell_type": "code",
   "execution_count": 18,
   "metadata": {},
   "outputs": [],
   "source": [
    "# Pandas\n",
    "#\n",
    "# Convert the date-related object datatypes in the loan acquisition\n",
    "# Pandas DataFrame (sflp_acq_pdf) to datetime datatypes.\n",
    "from datetime import datetime\n",
    "#print(sflp_squeue_pdf['NODES'])\n",
    "#print(sflp_squeue_pdf['JOBID'])\n",
    "sflp_squeue_pdf['UNIX_TIME'] = pandas.to_datetime(\n",
    "    sflp_squeue_pdf['UNIX_TIME'], unit=\"s\")\n",
    "sflp_squeue_pdf['SUBMIT_TIME'] = pandas.to_datetime(\n",
    "    sflp_squeue_pdf['SUBMIT_TIME'], format= (\"%Y-%m-%d\"+\"T\"+\"%H:%M:%S\") )\n",
    "sflp_squeue_pdf['START_TIME'] = pandas.to_datetime(\n",
    "    sflp_squeue_pdf['START_TIME'], format= (\"%Y-%m-%d\"+\"T\"+\"%H:%M:%S\") )\n",
    "#sflp_squeue_pdf['TIME_LIMIT'] = pandas.to_datetime(\n",
    "    #sflp_squeue_pdf['TIME_LIMIT'], format= (\"%d-%H:%M:%S\") )\n",
    "#if sflp_squeue_pdf['TIME'].item == \"0:00\":\n",
    "    #sflp_squeue_pdf['TIME'].item = pandas.to_datetime(sflp_squeue_pdf['TIME'], format= (\"%H:%M\") )\n",
    "    \n",
    "#else:\n",
    "    #sflp_squeue_pdf['TIME'].item = pandas.to_datetime(sflp_squeue_pdf['TIME'], format= (\"%d-%H:%M:%S\") )\n",
    "#df['hour'] = pd.to_datetime(df['time'], format='%H:%M').dt.hour\n",
    "#sflp_squeue_pdf['first_payment_date'] = pandas.to_datetime(\n",
    "    #sflp_squeue_pdf['first_payment_date'], format='%m/%Y')"
   ]
  },
  {
   "cell_type": "code",
   "execution_count": 19,
   "metadata": {},
   "outputs": [
    {
     "data": {
      "text/plain": [
       "UNIX_TIME      datetime64[ns]\n",
       "JOBID                category\n",
       "STATE                category\n",
       "USER                 category\n",
       "ACCOUNT              category\n",
       "PARTITIAN            category\n",
       "NODES                   Int64\n",
       "CPUSS                   Int64\n",
       "MIN_MEMORY           category\n",
       "GRES                 category\n",
       "SUBMIT_TIME    datetime64[ns]\n",
       "START_TIME     datetime64[ns]\n",
       "TIME                   object\n",
       "TIME_LIMIT             object\n",
       "PRIORITY                Int64\n",
       "REASON               category\n",
       "EXEC_HOST            category\n",
       "NODELIST             category\n",
       "COMMAND              category\n",
       "dtype: object"
      ]
     },
     "execution_count": 19,
     "metadata": {},
     "output_type": "execute_result"
    }
   ],
   "source": [
    "# Pandas\n",
    "#\n",
    "# Re-check the datatypes of the loan acquisition Pandas DataFrame\n",
    "# (sflp_acq_pdf) after completion of the object-to-datetime conversion. \n",
    "\n",
    "sflp_squeue_pdf.dtypes"
   ]
  },
  {
   "cell_type": "code",
   "execution_count": 25,
   "metadata": {},
   "outputs": [
    {
     "name": "stdout",
     "output_type": "stream",
     "text": [
      "CPU times: user 397 ms, sys: 2 ms, total: 399 ms\n",
      "Wall time: 399 ms\n"
     ]
    }
   ],
   "source": [
    "%%time \n",
    "# cuDF\n",
    "#\n",
    "# Create a copy of the loan acquisition Pandas DataFrame (sflp_acq_pdf)\n",
    "# in the memory of a single NVIDIA GPU by creating a cuDF DataFrame\n",
    "# (sflp_acq_cudf) from the Pandas DataFrame.\n",
    "\n",
    "#sflp_squeue_cudf = cudf.DataFrame.from_pandas(sflp_squeue_pdf)\n",
    "\n",
    "\n",
    "for i in sflp_squeue_pdf['TIME_LIMIT']:\n",
    "    if (type(i) != int) and (type(i) != float):\n",
    "        if i == \"0:00\":\n",
    "            i = 0.0 \n",
    "        elif len(i) == 10:\n",
    "            w = ((float(i[0])*24) + float(i[2:3]) + (float(i[5:6])/60))\n",
    "            sflp_squeue_pdf['TIME_LIMIT']= sflp_squeue_pdf['TIME_LIMIT'].replace(i, w)\n",
    "        elif len(i) == 8:\n",
    "            w = (float(i[0:2]) + (float(i[4:5])/60))\n",
    "            sflp_squeue_pdf['TIME_LIMIT']= sflp_squeue_pdf['TIME_LIMIT'].replace(i, w)\n",
    "        elif len(i) == 7:\n",
    "            w = (float(i[0]) + (float(i[2:3])/60))\n",
    "            sflp_squeue_pdf['TIME_LIMIT']= sflp_squeue_pdf['TIME_LIMIT'].replace(i, w)\n",
    "        elif len(i) == 5:\n",
    "            w = (float(i[0:1])/60)\n",
    "            sflp_squeue_pdf['TIME_LIMIT']= sflp_squeue_pdf['TIME_LIMIT'].replace(i, w)\n",
    "        elif len(i) == 4:\n",
    "            w = (float(i[0])/60)\n",
    "            sflp_squeue_pdf['TIME_LIMIT']= sflp_squeue_pdf['TIME_LIMIT'].replace(i, w)\n",
    "\n",
    "        "
   ]
  },
  {
   "cell_type": "code",
   "execution_count": null,
   "metadata": {},
   "outputs": [],
   "source": [
    "for x in sflp_squeue_pdf['TIME']:\n",
    "    if (type(x) != int) and (type(x) != float):\n",
    "        if x == \"0:00\":\n",
    "            y = 0\n",
    "            sflp_squeue_pdf['TIME']= sflp_squeue_pdf['TIME'].replace(x, y)\n",
    "        elif len(x) == 10:\n",
    "            y = ((int(x[0])*24) + int(x[2:3]) + (float(x[5:6])/60))\n",
    "            for q in sflp_squeue_pdf['TIME']:\n",
    "                if (type(q) != int) and (type(q) != float):\n",
    "                    if q[0:6] == x[0:6]:\n",
    "                        sflp_squeue_pdf['TIME']= sflp_squeue_pdf['TIME'].replace(q, y)\n",
    "        elif len(x) == 8:\n",
    "            y = (int(x[0:2]) + (float(x[4:5])/60))\n",
    "            for q in sflp_squeue_pdf['TIME']:\n",
    "                if (type(q) != int) and (type(q) != float):\n",
    "                    if q[0:5] == x[0:5]:\n",
    "                        sflp_squeue_pdf['TIME']= sflp_squeue_pdf['TIME'].replace(q, y)\n",
    "        elif len(x) == 7:\n",
    "            y = (int(x[0]) + (float(x[2:3])/60))\n",
    "            for q in sflp_squeue_pdf['TIME']:\n",
    "                if (type(q) != int) and (type(q) != float):\n",
    "                    if q[0:3] == x[0:3]:\n",
    "                        sflp_squeue_pdf['TIME']= sflp_squeue_pdf['TIME'].replace(q, y)\n",
    "        elif len(x) == 5:\n",
    "            y = (float(x[0:1])/60)\n",
    "            for q in sflp_squeue_pdf['TIME']:\n",
    "                if (type(q) != int) and (type(q) != float):\n",
    "                    if q[0:1] == x[0:1]:\n",
    "                        sflp_squeue_pdf['TIME']= sflp_squeue_pdf['TIME'].replace(q, y)\n",
    "        elif len(x) == 4:\n",
    "            y = (float(x[0])/60)\n",
    "            for q in sflp_squeue_pdf['TIME']:\n",
    "                if (type(q) != int) and (type(q) != float):\n",
    "                    if q[0] == x[0]:\n",
    "                        sflp_squeue_pdf['TIME']= sflp_squeue_pdf['TIME'].replace(q, y)\n",
    "\n",
    "sflp_squeue_pdf.dtypes"
   ]
  },
  {
   "cell_type": "code",
   "execution_count": 26,
   "metadata": {},
   "outputs": [
    {
     "name": "stdout",
     "output_type": "stream",
     "text": [
      "0          3\n",
      "1          3\n",
      "2          3\n",
      "3          3\n",
      "4        120\n",
      "5         48\n",
      "6         20\n",
      "7         20\n",
      "8         48\n",
      "9         48\n",
      "10        48\n",
      "11        26\n",
      "12        26\n",
      "13        24\n",
      "14        48\n",
      "15        48\n",
      "16        25\n",
      "17        25\n",
      "18        48\n",
      "19        48\n",
      "20        48\n",
      "21        48\n",
      "22        48\n",
      "23        48\n",
      "24        48\n",
      "25        48\n",
      "26        48\n",
      "27        48\n",
      "28        48\n",
      "29        48\n",
      "        ... \n",
      "84427     48\n",
      "84428     48\n",
      "84429     48\n",
      "84430     48\n",
      "84431     24\n",
      "84432     48\n",
      "84433     24\n",
      "84434     48\n",
      "84435     48\n",
      "84436     24\n",
      "84437     24\n",
      "84438     24\n",
      "84439     24\n",
      "84440     24\n",
      "84441     25\n",
      "84442     25\n",
      "84443     25\n",
      "84444     25\n",
      "84445     48\n",
      "84446     25\n",
      "84447     25\n",
      "84448     25\n",
      "84449     25\n",
      "84450     25\n",
      "84451     25\n",
      "84452     25\n",
      "84453     24\n",
      "84454     24\n",
      "84455     10\n",
      "84456     10\n",
      "Name: TIME_LIMIT, Length: 961673, dtype: object\n"
     ]
    },
    {
     "data": {
      "text/plain": [
       "UNIX_TIME      datetime64[ns]\n",
       "JOBID                category\n",
       "STATE                category\n",
       "USER                 category\n",
       "ACCOUNT              category\n",
       "PARTITIAN            category\n",
       "NODES                   Int64\n",
       "CPUSS                   Int64\n",
       "MIN_MEMORY           category\n",
       "GRES                 category\n",
       "SUBMIT_TIME    datetime64[ns]\n",
       "START_TIME     datetime64[ns]\n",
       "TIME                   object\n",
       "TIME_LIMIT             object\n",
       "PRIORITY                Int64\n",
       "REASON               category\n",
       "EXEC_HOST            category\n",
       "NODELIST             category\n",
       "COMMAND              category\n",
       "dtype: object"
      ]
     },
     "execution_count": 26,
     "metadata": {},
     "output_type": "execute_result"
    }
   ],
   "source": [
    "# Pandas\n",
    "#\n",
    "# Inspect the first few rows of the loan acquisition Pandas DataFrame\n",
    "# (sflp_acq_pdf).\n",
    "print(sflp_squeue_pdf['TIME_LIMIT'])\n",
    "\n",
    "sflp_squeue_pdf.dtypes"
   ]
  },
  {
   "cell_type": "code",
   "execution_count": 25,
   "metadata": {},
   "outputs": [],
   "source": [
    "# cuDF\n",
    "#\n",
    "# Compare the first few rows of the loan acquisition cuDF DataFrame\n",
    "# (sflp_acq_cudf) against those of the Pandas DataFrame (sflp_acq_pdf).\n",
    "\n",
    "#sflp_squeue_cudf.head()"
   ]
  },
  {
   "cell_type": "markdown",
   "metadata": {},
   "source": [
    "### SACCT Data"
   ]
  },
  {
   "cell_type": "code",
   "execution_count": 35,
   "metadata": {},
   "outputs": [
    {
     "name": "stdout",
     "output_type": "stream",
     "text": [
      "18456165-I-1000.txt 754438\n"
     ]
    }
   ],
   "source": [
    "# List all of the files from the SACCT dataset to be analyzed\n",
    "# as well as the size of each file in bytes.\n",
    "\n",
    "for sflp_sacct_file in sflp_sacct_files:\n",
    "    print(os.path.basename(sflp_sacct_file), os.stat(sflp_sacct_file).st_size)\n"
   ]
  },
  {
   "cell_type": "code",
   "execution_count": 36,
   "metadata": {},
   "outputs": [
    {
     "name": "stdout",
     "output_type": "stream",
     "text": [
      "18456165|18456165|519982|10059|16183|comet|sp_hse06_Li4|yixuan11|ddp309|ddp309|||compute|normal|1|0||0|0|384|Unknown|120Gn|||04:00:00|0|CANCELLED by 507569|0:0|0:0|2018-08-09T16:07:23|2018-08-09T16:07:23|2019-12-03T11:07:58|2019-12-03T11:07:58|04:00:00|00:00:00|480-20:00:35|00:00:00|||||INVALID|3068007552|00:00:00|||00:00:00|0||||||||||||||||||||||||||None assigned\n",
      "\n",
      "20122149|20122149|521942|10670|18997|comet|rep4_step7_17|hoang029|csm107|csm107|||compute|normal|1|0||0|0|48|Unknown|120Gn|||1-00:00:00|1301|CANCELLED by 507569|0:0|0:0|2018-11-13T15:41:25|2018-11-13T15:41:25|2019-07-09T12:59:11|2019-07-09T12:59:11|1-00:00:00|00:00:00|237-20:17:46|00:00:00|||||11416-14:12:48|986393568|00:00:00|||00:00:00|0||||||||||||||||||||||||||None assigned\n",
      "\n",
      "20122150|20122150|521942|10670|18997|comet|rep4_step7_18|hoang029|csm107|csm107|||compute|normal|1|0||0|0|48|Unknown|120Gn|||1-00:00:00|1301|CANCELLED by 507569|0:0|0:0|2018-11-13T15:41:25|2018-11-13T15:41:25|2019-07-09T12:59:11|2019-07-09T12:59:11|1-00:00:00|00:00:00|237-20:17:46|00:00:00|||||11416-14:12:48|986393568|00:00:00|||00:00:00|0||||||||||||||||||||||||||None assigned\n",
      "\n"
     ]
    }
   ],
   "source": [
    "# Print the first few lines from the first loan acquisition data file.\n",
    "\n",
    "number_of_lines = 3\n",
    "with open(sflp_sacct_files[0], 'r') as sflp_sacct_file:\n",
    "    for x in range(number_of_lines):\n",
    "        print(sflp_sacct_file.readline())"
   ]
  },
  {
   "cell_type": "code",
   "execution_count": 43,
   "metadata": {},
   "outputs": [],
   "source": [
    "# Define an ordered dictionary of column datatypes for the SFLP loan \n",
    "# acquisition dataset.\n",
    "\n",
    "#yo whats up\n",
    "\n",
    "sflp_sacct_columns = collections.OrderedDict()\n",
    "sflp_sacct_columns['JobIDRaw'] = 'Int64'\n",
    "sflp_sacct_columns['JobID'] = 'Int64'\n",
    "sflp_sacct_columns['UID'] = 'Int64'\n",
    "sflp_sacct_columns['GID'] = 'Int64'\n",
    "sflp_sacct_columns['AssocID'] = 'Int64'\n",
    "sflp_sacct_columns['Cluster'] = 'category'\n",
    "sflp_sacct_columns['JobName'] = 'category'\n",
    "sflp_sacct_columns['User'] ='category'\n",
    "sflp_sacct_columns['Group'] = 'category' #check if this is correct\n",
    "sflp_sacct_columns['Account'] = 'category'\n",
    "sflp_sacct_columns['Reservation'] = 'object'\n",
    "sflp_sacct_columns['ReservationID'] = 'object'\n",
    "sflp_sacct_columns['Partition'] = 'category'\n",
    "sflp_sacct_columns['QOS'] = 'object'\n",
    "sflp_sacct_columns['QOSRAW'] = 'Int64'\n",
    "sflp_sacct_columns['NNODES'] = 'Int64'\n",
    "sflp_sacct_columns['NTasks'] = 'Int64'\n",
    "sflp_sacct_columns['NCPUS'] = 'Int64'\n",
    "sflp_sacct_columns['AllocCPUS'] = 'Int64'\n",
    "sflp_sacct_columns['ReqCPUS'] = 'Int64'\n",
    "sflp_sacct_columns['ReqCPUSFreq'] = 'object'\n",
    "sflp_sacct_columns['ReqMem'] = 'object'\n",
    "sflp_sacct_columns['ReqGRES'] = 'object'\n",
    "sflp_sacct_columns['AllocGRES'] = 'object'\n",
    "sflp_sacct_columns['TimeLimit'] = 'object'\n",
    "sflp_sacct_columns['Priority'] = 'Int64'\n",
    "sflp_sacct_columns['State'] = 'category'\n",
    "sflp_sacct_columns['ExitCode'] = 'object'\n",
    "sflp_sacct_columns['DerivedExitCode'] = 'object'\n",
    "sflp_sacct_columns['Sumbit'] = 'object'\n",
    "sflp_sacct_columns['Eligible'] = 'object'\n",
    "sflp_sacct_columns['Start'] = 'object'\n",
    "sflp_sacct_columns['End'] = 'object'\n",
    "sflp_sacct_columns['Time'] = 'object'\n",
    "sflp_sacct_columns['Elapsed'] = 'object'\n",
    "sflp_sacct_columns['Reserved'] = 'object'\n",
    "sflp_sacct_columns['Suspended'] = 'object'\n",
    "sflp_sacct_columns['AveCPU'] = 'object'\n",
    "sflp_sacct_columns['MinCPU'] = 'object'\n",
    "sflp_sacct_columns['MinCPUNode'] = 'object'\n",
    "sflp_sacct_columns['MinCPUTask'] = 'object'\n",
    "sflp_sacct_columns['ResvCPU'] = 'object'\n",
    "sflp_sacct_columns['ResvCPURaw'] = 'object'\n",
    "sflp_sacct_columns['TotalCPU'] = 'object'\n",
    "sflp_sacct_columns['SystemCPU'] = 'object'\n",
    "sflp_sacct_columns['UserCPU'] = 'object'\n",
    "sflp_sacct_columns['CPUTime'] = 'object'\n",
    "sflp_sacct_columns['CPUTimeRaw'] = 'object'\n",
    "sflp_sacct_columns['AveCPUFreq'] = 'object'\n",
    "sflp_sacct_columns['AveDiskRead'] = 'object'\n",
    "sflp_sacct_columns['MaxDiskRead'] = 'object'\n",
    "sflp_sacct_columns['MaxDiskReadNode'] = 'object'\n",
    "sflp_sacct_columns['MaxDiskReadTask'] = 'object'\n",
    "sflp_sacct_columns['AveDiskWrite'] = 'object'\n",
    "sflp_sacct_columns['MaxDiskWrite'] = 'object'\n",
    "sflp_sacct_columns['MaxDiskWriteNode'] = 'object'\n",
    "sflp_sacct_columns['MaxDiskWriteTask'] = 'object'\n",
    "sflp_sacct_columns['AvePages'] = 'object'\n",
    "sflp_sacct_columns['MaxPages'] = 'object'\n",
    "sflp_sacct_columns['MaxPagesNode'] = 'object'\n",
    "sflp_sacct_columns['MaxPagesTask'] = 'object'\n",
    "sflp_sacct_columns['AveRSS'] = 'object'\n",
    "sflp_sacct_columns['MaxRSS'] = 'object'\n",
    "sflp_sacct_columns['MaxRSSNode'] = 'object'\n",
    "sflp_sacct_columns['MaxRSSTask'] = 'object'\n",
    "sflp_sacct_columns['AveVMSize'] = 'object'\n",
    "sflp_sacct_columns['MaxVMSize'] = 'object'\n",
    "sflp_sacct_columns['MaxVMSizeNode'] = 'object'\n",
    "sflp_sacct_columns['MaxVMSizeTask'] = 'object'\n",
    "sflp_sacct_columns['ConsumedEnergy'] = 'object'\n",
    "sflp_sacct_columns['ConsumedEnergyRaw'] = 'object'\n",
    "sflp_sacct_columns['Layout'] = 'object'\n",
    "sflp_sacct_columns['Comment'] = 'category'\n",
    "sflp_sacct_columns['NodeList'] = 'object'"
   ]
  },
  {
   "cell_type": "code",
   "execution_count": 44,
   "metadata": {},
   "outputs": [
    {
     "name": "stdout",
     "output_type": "stream",
     "text": [
      "['/home/caolinnh/REHS_code/dataJup/SACCT/18456165-I-1000.txt']\n",
      "JobIDRaw JobID UID GID AssocID Cluster JobName User Group Account Reservation ReservationID Partition QOS QOSRAW NNODES NTasks NCPUS AllocCPUS ReqCPUS ReqCPUSFreq ReqMem ReqGRES AllocGRES TimeLimit Priority State ExitCode DerivedExitCode Sumbit Eligible Start End Time Elapsed Reserved Suspended AveCPU MinCPU MinCPUNode MinCPUTask ResvCPU ResvCPURaw TotalCPU SystemCPU UserCPU CPUTime CPUTimeRaw AveCPUFreq AveDiskRead MaxDiskRead MaxDiskReadNode MaxDiskReadTask AveDiskWrite MaxDiskWrite MaxDiskWriteNode MaxDiskWriteTask AvePages MaxPages MaxPagesNode MaxPagesTask AveRSS MaxRSS MaxRSSNode MaxRSSTask AveVMSize MaxVMSize MaxVMSizeNode MaxVMSizeTask ConsumedEnergy ConsumedEnergyRaw Layout Comment NodeList\n",
      "CPU times: user 1min 26s, sys: 23.2 s, total: 1min 50s\n",
      "Wall time: 3min 50s\n"
     ]
    }
   ],
   "source": [
    "%%time\n",
    "# Dask\n",
    "# \n",
    "# Read in all of the loan acquisition data into a Pandas DataFrame \n",
    "# (sflp_acq_pdf) via the distributed dask.dataframe.read_csv method.\n",
    "\n",
    "print(sflp_sacct_files)\n",
    "print(*sflp_sacct_columns.keys())\n",
    "\n",
    "dask_client = dask.distributed.Client(n_workers=26, threads_per_worker=1)\n",
    "\n",
    "sflp_squeue_ddf = dask.dataframe.read_csv(sflp_sacct_files, \n",
    "                                       names=[*sflp_sacct_columns.keys()], \n",
    "                                       delimiter=\"|\",\n",
    "                                       dtype= \"object\" )#sflp_sacct_columns)\n",
    "sflp_sacct_ddf = dask_client.persist(sflp_squeue_ddf)\n",
    "sflp_sacct_pdf = sflp_sacct_ddf.compute()\n",
    "dask_client.close()"
   ]
  },
  {
   "cell_type": "code",
   "execution_count": 45,
   "metadata": {},
   "outputs": [
    {
     "data": {
      "text/plain": [
       "JobIDRaw             object\n",
       "JobID                object\n",
       "UID                  object\n",
       "GID                  object\n",
       "AssocID              object\n",
       "Cluster              object\n",
       "JobName              object\n",
       "User                 object\n",
       "Group                object\n",
       "Account              object\n",
       "Reservation          object\n",
       "ReservationID        object\n",
       "Partition            object\n",
       "QOS                  object\n",
       "QOSRAW               object\n",
       "NNODES               object\n",
       "NTasks               object\n",
       "NCPUS                object\n",
       "AllocCPUS            object\n",
       "ReqCPUS              object\n",
       "ReqCPUSFreq          object\n",
       "ReqMem               object\n",
       "ReqGRES              object\n",
       "AllocGRES            object\n",
       "TimeLimit            object\n",
       "Priority             object\n",
       "State                object\n",
       "ExitCode             object\n",
       "DerivedExitCode      object\n",
       "Sumbit               object\n",
       "                      ...  \n",
       "SystemCPU            object\n",
       "UserCPU              object\n",
       "CPUTime              object\n",
       "CPUTimeRaw           object\n",
       "AveCPUFreq           object\n",
       "AveDiskRead          object\n",
       "MaxDiskRead          object\n",
       "MaxDiskReadNode      object\n",
       "MaxDiskReadTask      object\n",
       "AveDiskWrite         object\n",
       "MaxDiskWrite         object\n",
       "MaxDiskWriteNode     object\n",
       "MaxDiskWriteTask     object\n",
       "AvePages             object\n",
       "MaxPages             object\n",
       "MaxPagesNode         object\n",
       "MaxPagesTask         object\n",
       "AveRSS               object\n",
       "MaxRSS               object\n",
       "MaxRSSNode           object\n",
       "MaxRSSTask           object\n",
       "AveVMSize            object\n",
       "MaxVMSize            object\n",
       "MaxVMSizeNode        object\n",
       "MaxVMSizeTask        object\n",
       "ConsumedEnergy       object\n",
       "ConsumedEnergyRaw    object\n",
       "Layout               object\n",
       "Comment              object\n",
       "NodeList             object\n",
       "Length: 74, dtype: object"
      ]
     },
     "execution_count": 45,
     "metadata": {},
     "output_type": "execute_result"
    }
   ],
   "source": [
    "# Pandas\n",
    "#\n",
    "# Re-check the datatypes of the loan acquisition Pandas DataFrame\n",
    "# (sflp_acq_pdf) after completion of the object-to-datetime conversion. \n",
    "\n",
    "sflp_sacct_pdf.dtypes"
   ]
  },
  {
   "cell_type": "raw",
   "metadata": {},
   "source": [
    "Coming Soon. Requires multi-node, multi-GPU dask_cuda setup."
   ]
  },
  {
   "cell_type": "markdown",
   "metadata": {},
   "source": [
    "## Data Exploration and Manipulation"
   ]
  },
  {
   "cell_type": "markdown",
   "metadata": {},
   "source": [
    "### Filtering and Querying Data"
   ]
  },
  {
   "cell_type": "code",
   "execution_count": 46,
   "metadata": {},
   "outputs": [
    {
     "name": "stdout",
     "output_type": "stream",
     "text": [
      "CPU times: user 126 ms, sys: 164 ms, total: 290 ms\n",
      "Wall time: 211 ms\n"
     ]
    },
    {
     "data": {
      "text/plain": [
       "101710"
      ]
     },
     "execution_count": 46,
     "metadata": {},
     "output_type": "execute_result"
    }
   ],
   "source": [
    "%%time\n",
    "# Pandas\n",
    "#\n",
    "# How many loans were made for more than $400,000?\n",
    "\n",
    "len(sflp_squeue_pdf.query('NODES > 3'))"
   ]
  },
  {
   "cell_type": "code",
   "execution_count": null,
   "metadata": {},
   "outputs": [],
   "source": [
    "%%time\n",
    "# cuDF\n",
    "#\n",
    "# How many loans were made for more than $400,000?\n",
    "\n",
    "len(sflp_acq_cudf.query('original_unpaid_principal_balance > 400000'))"
   ]
  },
  {
   "cell_type": "code",
   "execution_count": null,
   "metadata": {},
   "outputs": [],
   "source": [
    "%%time\n",
    "# Pandas\n",
    "#\n",
    "# How many loans were made in California for more than $400,000?\n",
    "\n",
    "len(sflp_acq_pdf.query('property_state == \"CA\" and \\\n",
    "                        original_unpaid_principal_balance > 400000'))"
   ]
  },
  {
   "cell_type": "code",
   "execution_count": null,
   "metadata": {},
   "outputs": [],
   "source": [
    "%%time\n",
    "# cuDF (FAIL)\n",
    "#\n",
    "# How many loans were made in California for more than $400,000?\n",
    "\n",
    "len(sflp_acq_cudf.query('property_state == \"CA\" and \\\n",
    "                        original_unpaid_principal_balance > 400000'))"
   ]
  },
  {
   "cell_type": "code",
   "execution_count": null,
   "metadata": {},
   "outputs": [],
   "source": [
    "# cuDF\n",
    "#\n",
    "# Check the list of categories in the property_state column. Find CA.\n",
    "\n",
    "sflp_acq_cudf.property_state.cat.categories"
   ]
  },
  {
   "cell_type": "code",
   "execution_count": null,
   "metadata": {},
   "outputs": [],
   "source": [
    "%%time \n",
    "# cuDF\n",
    "#\n",
    "# It appears that cuDF still does not support literal string comparisons\n",
    "# in the cudf.DataFrame.query() method. e.g., instead, you must use the\n",
    "# numerical index one of the categories in a category datatype. \n",
    "#\n",
    "# How many loans were made in California (4) for more than $400,000?\n",
    "\n",
    "len(sflp_acq_cudf.query('property_state == 4 and \\\n",
    "                         original_unpaid_principal_balance > 400000'))"
   ]
  },
  {
   "cell_type": "code",
   "execution_count": null,
   "metadata": {},
   "outputs": [],
   "source": [
    "%%time \n",
    "# Pandas\n",
    "# \n",
    "# How many loans were made in either California, New York, or Florida\n",
    "# for more than $400,000 to principal borrowers who had a credit score\n",
    "# of less than 650?\n",
    "\n",
    "len(sflp_acq_pdf.query('(property_state == \"CA\" or \\\n",
    "                         property_state == \"NY\" or \\\n",
    "                         property_state ==\"FL\") and \\\n",
    "                         original_unpaid_principal_balance > 400000 and \\\n",
    "                         borrower_credit_score_at_origination < 650'))"
   ]
  },
  {
   "cell_type": "code",
   "execution_count": null,
   "metadata": {},
   "outputs": [],
   "source": [
    "%%time\n",
    "# cuDF\n",
    "# \n",
    "# How many loans were made in either California (4), New York (34), or \n",
    "# Florida (9) for more than $400,000 to principal borrowers who had a \n",
    "# credit score of less than 650?\n",
    "\n",
    "len(sflp_acq_cudf.query('(property_state == 4 or \\\n",
    "                          property_state == 34 or \\\n",
    "                          property_state == 9) and \\\n",
    "                          original_unpaid_principal_balance > 400000 and \\\n",
    "                          borrower_credit_score_at_origination < 650'))"
   ]
  },
  {
   "cell_type": "markdown",
   "metadata": {},
   "source": [
    "### Grouping Data"
   ]
  },
  {
   "cell_type": "code",
   "execution_count": null,
   "metadata": {},
   "outputs": [],
   "source": [
    "%%time\n",
    "# Pandas   .count(Int64)\n",
    "#\n",
    "# What was the total number of loans originated per month? \n",
    "\n",
    "total_number_of_loans_originated_per_month_pdf = sflp_acq_pdf.groupby(\n",
    "    'origination_date')['loan_identifier'].count().to_frame()"
   ]
  },
  {
   "cell_type": "code",
   "execution_count": null,
   "metadata": {},
   "outputs": [],
   "source": [
    "%%time\n",
    "# cuDF    .count(int64)\n",
    "#\n",
    "# What was the total number of loans originated per month?\n",
    "# .count(Int64)\n",
    "\n",
    "total_number_of_loans_originated_per_month_cudf = sflp_acq_cudf.groupby(\n",
    "    'origination_date')['loan_identifier'].count().to_frame()"
   ]
  },
  {
   "cell_type": "code",
   "execution_count": null,
   "metadata": {},
   "outputs": [],
   "source": [
    "%%time\n",
    "# Pandas   .sum(Int64)\n",
    "# \n",
    "# What was the total unpaid principal balance originated per month (in\n",
    "# billions of dollars)?\n",
    "\n",
    "total_unpaid_principal_balance_originated_per_month_pdf = sflp_acq_pdf.groupby(\n",
    "    'origination_date')['original_unpaid_principal_balance'].sum().to_frame().div(1000000000)"
   ]
  },
  {
   "cell_type": "code",
   "execution_count": null,
   "metadata": {},
   "outputs": [],
   "source": [
    "%%time\n",
    "# cuDF    .sum(int64)   (FAIL)\n",
    "# \n",
    "# What was the total unpaid principal balance originated per month (in\n",
    "# billions of dollars)?\n",
    "\n",
    "total_unpaid_principal_balances_originated_per_month_cudf  = sflp_acq_cudf.groupby(\n",
    "    'origination_date')['original_unpaid_principal_balance'].sum().to_frame().div(1000000000)"
   ]
  },
  {
   "cell_type": "code",
   "execution_count": null,
   "metadata": {},
   "outputs": [],
   "source": [
    "%%time\n",
    "# Pandas   .sum(Int64)\n",
    "# \n",
    "# What was the total unpaid principal balance originated per month?\n",
    "\n",
    "total_unpaid_principal_balance_originated_per_month_pdf = sflp_acq_pdf.groupby(\n",
    "    'origination_date')['original_unpaid_principal_balance'].sum().to_frame()"
   ]
  },
  {
   "cell_type": "code",
   "execution_count": null,
   "metadata": {},
   "outputs": [],
   "source": [
    "%%time\n",
    "# cuDF    .sum(int64)\n",
    "# \n",
    "# What was the total unpaid principal balance originated per month?\n",
    "\n",
    "total_unpaid_principal_balance_originated_per_month_cudf = sflp_acq_cudf.groupby(\n",
    "    'origination_date')['original_unpaid_principal_balance'].sum().to_frame()"
   ]
  },
  {
   "cell_type": "code",
   "execution_count": null,
   "metadata": {},
   "outputs": [],
   "source": [
    "%%time\n",
    "# Pandas   .mean(Int64)\n",
    "# \n",
    "# What was the average unpaid principal balance at originiation by month?\n",
    "\n",
    "average_unpaid_principal_balance_at_origination_by_month_pdf = sflp_acq_pdf.groupby(\n",
    "    'origination_date')['original_unpaid_principal_balance'].mean().to_frame()"
   ]
  },
  {
   "cell_type": "code",
   "execution_count": null,
   "metadata": {},
   "outputs": [],
   "source": [
    "%%time\n",
    "# cuDF    .mean(int64)    \n",
    "# \n",
    "# What was the average unpaid principal balance at originiation by month?\n",
    "\n",
    "average_unpaid_principal_balance_at_origination_by_month_cudf = sflp_acq_cudf.groupby(\n",
    "    'origination_date')['original_unpaid_principal_balance'].mean().to_frame()"
   ]
  },
  {
   "cell_type": "code",
   "execution_count": null,
   "metadata": {},
   "outputs": [],
   "source": [
    "%%time\n",
    "# Pandas   .mean(float64)\n",
    "#\n",
    "# What was the average loan to value ratio at originiation by month?\n",
    "\n",
    "average_loan_to_value_at_origination_by_month_pdf  = sflp_acq_pdf.groupby(\n",
    "    'origination_date')['original_loan_to_value'].mean().to_frame()"
   ]
  },
  {
   "cell_type": "code",
   "execution_count": null,
   "metadata": {},
   "outputs": [],
   "source": [
    "%%time\n",
    "# cuDF    .mean(float64)\n",
    "#\n",
    "# What was the average loan to value ratio at originiation by month?\n",
    "\n",
    "average_loan_to_value_at_origination_by_month_cudf  = sflp_acq_cudf.groupby(\n",
    "    'origination_date')['original_loan_to_value'].mean().to_frame()"
   ]
  },
  {
   "cell_type": "code",
   "execution_count": null,
   "metadata": {},
   "outputs": [],
   "source": [
    "%time\n",
    "# Pandas\n",
    "#\n",
    "# What was the average credit score of a borrower at originiation?\n",
    "\n",
    "average_credit_score_at_origination_by_month_pdf = sflp_acq_pdf.groupby(\n",
    "    'origination_date')['borrower_credit_score_at_origination'].mean().to_frame()"
   ]
  },
  {
   "cell_type": "code",
   "execution_count": null,
   "metadata": {},
   "outputs": [],
   "source": [
    "%time\n",
    "# cuDF\n",
    "#\n",
    "# What was the average credit score of a borrower at originiation?\n",
    "\n",
    "average_credit_score_at_origination_by_month_cudf = sflp_acq_cudf.groupby(\n",
    "    'origination_date')['borrower_credit_score_at_origination'].mean().to_frame()"
   ]
  },
  {
   "cell_type": "code",
   "execution_count": null,
   "metadata": {},
   "outputs": [],
   "source": [
    "%%time\n",
    "# Pandas\n",
    "#\n",
    "# What was the average debt-to-income ratio of a borrower at origination?\n",
    "\n",
    "average_debt_to_income_at_origination_by_month_pdf  = sflp_acq_pdf.groupby(\n",
    "    'origination_date')['original_debt_to_income_ratio'].mean().to_frame()"
   ]
  },
  {
   "cell_type": "code",
   "execution_count": null,
   "metadata": {},
   "outputs": [],
   "source": [
    "%%time\n",
    "# cuDF\n",
    "#\n",
    "# What was the average debt-to-income ratio of a borrower at origination?\n",
    "\n",
    "average_debt_to_income_at_origination_by_month_cudf  = sflp_acq_cudf.groupby(\n",
    "    'origination_date')['original_debt_to_income_ratio'].mean().to_frame()"
   ]
  },
  {
   "cell_type": "code",
   "execution_count": null,
   "metadata": {},
   "outputs": [],
   "source": [
    "%%time\n",
    "# Pandas\n",
    "# \n",
    "# What was the average interest rate on a loan at origination?\n",
    "\n",
    "average_interest_rate_at_origination_by_month_pdf = sflp_acq_pdf.groupby(\n",
    "    'origination_date')['original_interest_rate'].mean().to_frame()"
   ]
  },
  {
   "cell_type": "code",
   "execution_count": null,
   "metadata": {},
   "outputs": [],
   "source": [
    "%%time\n",
    "# cuDF\n",
    "# \n",
    "# What was the average interest rate on a loan at origination?\n",
    "\n",
    "average_interest_rate_at_origination_by_month_cudf = sflp_acq_cudf.groupby(\n",
    "    'origination_date')['original_interest_rate'].mean().to_frame()"
   ]
  },
  {
   "cell_type": "markdown",
   "metadata": {},
   "source": [
    "### Concatenating Data"
   ]
  },
  {
   "cell_type": "code",
   "execution_count": null,
   "metadata": {},
   "outputs": [],
   "source": [
    "%%time\n",
    "# Pandas\n",
    "#\n",
    "# Combine the monthly summary statistics series created above into a\n",
    "# single pandas DataFrame.\n",
    "\n",
    "sflp_acq_monthly_summary_pdf = pandas.concat([total_number_of_loans_originated_per_month_pdf, \n",
    "                                      total_unpaid_principal_balance_originated_per_month_pdf, \n",
    "                                      average_unpaid_principal_balance_at_origination_by_month_pdf, \n",
    "                                      average_loan_to_value_at_origination_by_month_pdf, \n",
    "                                      average_credit_score_at_origination_by_month_pdf, \n",
    "                                      average_debt_to_income_at_origination_by_month_pdf, \n",
    "                                      average_interest_rate_at_origination_by_month_pdf], axis=1)"
   ]
  },
  {
   "cell_type": "code",
   "execution_count": null,
   "metadata": {},
   "outputs": [],
   "source": [
    "%%time\n",
    "# cuDF\n",
    "#\n",
    "# Combine the monthly summary statistics series created above into a\n",
    "# single pandas DataFrame.\n",
    "\n",
    "sflp_acq_monthly_summary_cudf = cudf.concat([total_number_of_loans_originated_per_month_cudf, \n",
    "                                      total_unpaid_principal_balance_originated_per_month_cudf, \n",
    "                                      average_unpaid_principal_balance_at_origination_by_month_cudf, \n",
    "                                      average_loan_to_value_at_origination_by_month_cudf, \n",
    "                                      average_credit_score_at_origination_by_month_cudf, \n",
    "                                      average_debt_to_income_at_origination_by_month_cudf, \n",
    "                                      average_interest_rate_at_origination_by_month_cudf], axis=1)"
   ]
  },
  {
   "cell_type": "markdown",
   "metadata": {},
   "source": [
    "## Cluster Analysis and Classification"
   ]
  },
  {
   "cell_type": "raw",
   "metadata": {},
   "source": [
    "Comming Soon. Requires cuML. "
   ]
  },
  {
   "cell_type": "code",
   "execution_count": null,
   "metadata": {},
   "outputs": [],
   "source": []
  },
  {
   "cell_type": "code",
   "execution_count": null,
   "metadata": {},
   "outputs": [],
   "source": []
  }
 ],
 "metadata": {
  "kernelspec": {
   "display_name": "Python 3",
   "language": "python",
   "name": "python3"
  },
  "language_info": {
   "codemirror_mode": {
    "name": "ipython",
    "version": 3
   },
   "file_extension": ".py",
   "mimetype": "text/x-python",
   "name": "python",
   "nbconvert_exporter": "python",
   "pygments_lexer": "ipython3",
   "version": "3.7.3"
  }
 },
 "nbformat": 4,
 "nbformat_minor": 4
}
