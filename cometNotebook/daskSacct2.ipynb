{
 "cells": [
  {
   "cell_type": "code",
   "execution_count": 1,
   "metadata": {},
   "outputs": [],
   "source": [
    "import sacct\n",
    "import pandas as pd\n",
    "import seaborn as sns\n",
    "import matplotlib.pyplot as plt\n",
    "from time import time\n",
    "import os\n",
    "import dask.dataframe as dd\n",
    "from random import randint\n",
    "import numpy as np\n",
    "from dask.array import from_array as fa\n",
    "\n",
    "sourceFile = 'df_sacct.parquet'  # Source of sacct data if using offline mode."
   ]
  },
  {
   "cell_type": "code",
   "execution_count": 2,
   "metadata": {},
   "outputs": [],
   "source": [
    "#df = dd.read_csv(sourceFile)\n",
    "df = dd.read_parquet(sourceFile)  # For if you're smart and use parquet files instead of csvs"
   ]
  },
  {
   "cell_type": "code",
   "execution_count": 3,
   "metadata": {},
   "outputs": [
    {
     "name": "stdout",
     "output_type": "stream",
     "text": [
      "(Delayed('int-0434419b-6b7c-46ea-928e-4aeb9dcae011'), 77) \n",
      "\n",
      "\n",
      "   Unnamed: 0  Unnamed: 0.1  JobIDRaw   step           JobID  UID  GID  AssocID Cluster                 JobName  User  Group Account  Reservation  \\\n",
      "0           0             0  35767092  batch  35767092.batch  NaN  NaN    24786   comet                   batch   NaN    NaN  mit178          NaN   \n",
      "1           1             1  35767116  batch  35767116.batch  NaN  NaN    24786   comet                   batch   NaN    NaN  mit178          NaN   \n",
      "2           2             2  35790946      0      35790946.0  NaN  NaN     1263   comet  _batch_command.cmdline   NaN    NaN  sds121          NaN   \n",
      "3           3             3  35790948      0      35790948.0  NaN  NaN     1263   comet  _batch_command.cmdline   NaN    NaN  sds121          NaN   \n",
      "4           4             4  35790951      0      35790951.0  NaN  NaN     1263   comet  _batch_command.cmdline   NaN    NaN  sds121          NaN   \n",
      "\n",
      "   ReservationId  Partition  QOS  QOSRAW  NNODES  NTASKS  NCPUS  AllocCPUS  ReqCPUS ReqCPUFreq  ReqMem ReqGRES AllocGRES  Timelimit  Priority  \\\n",
      "0            NaN        NaN  NaN     NaN       1       1     24         24       24          0  6000Mc    None      None         41       NaN   \n",
      "1            NaN        NaN  NaN     NaN       1       1     24         24       24          0  5000Mc    None      None         41       NaN   \n",
      "2            NaN        NaN  NaN     NaN       1       8      8          8        8    Unknown      0n    None      None         25       NaN   \n",
      "3            NaN        NaN  NaN     NaN       2      12     12         12       12    Unknown      0n    None      None         25       NaN   \n",
      "4            NaN        NaN  NaN     NaN       1       6      6          6        6    Unknown      0n    None      None          6       NaN   \n",
      "\n",
      "       State ExitCode  DerivedExitCode               Submit             Eligible                Start                  End  Time   Elapsed Reserved  \\\n",
      "0  CANCELLED     0:15              NaN  2020-09-29T00:00:00  2020-09-29T00:00:00  2020-09-29T00:00:00  2020-09-29T00:00:01   NaN  00:00:01  INVALID   \n",
      "1  CANCELLED     0:15              NaN  2020-09-29T00:00:00  2020-09-29T00:00:00  2020-09-29T00:00:00  2020-09-29T00:00:01   NaN  00:00:01  INVALID   \n",
      "2    RUNNING      0:0              NaN  2020-09-29T00:00:00  2020-09-29T00:00:00  2020-09-29T00:00:00  2020-09-29T00:00:01   NaN  00:00:01  INVALID   \n",
      "3    RUNNING      0:0              NaN  2020-09-29T00:00:00  2020-09-29T00:00:00  2020-09-29T00:00:00  2020-09-29T00:00:01   NaN  00:00:01  INVALID   \n",
      "4    RUNNING      0:0              NaN  2020-09-29T00:00:00  2020-09-29T00:00:00  2020-09-29T00:00:00  2020-09-29T00:00:01   NaN  00:00:01  INVALID   \n",
      "\n",
      "  Suspended       AveCPU       MinCPU   MinCPUNode  MinCPUTask  ResvCPU  ResvCPURaw     TotalCPU SystemCPU      UserCPU   CPUTime  CPUTimeRaw  \\\n",
      "0  00:00:00  11-02:35:27  11-02:35:27  comet-25-17         0.0  INVALID         NaN  11-02:35:27  02:36:30  10-23:58:57  00:00:24          24   \n",
      "1  00:00:00  14-12:51:34  14-12:51:34  comet-15-57         0.0  INVALID         NaN  14-12:51:34  03:31:01  14-09:20:33  00:00:24          24   \n",
      "2  00:00:00         None         None         None         NaN  INVALID         NaN     00:00:00      None         None  00:00:08           8   \n",
      "3  00:00:00         None         None         None         NaN  INVALID         NaN     00:00:00      None         None  00:00:12          12   \n",
      "4  00:00:00         None         None         None         NaN  INVALID         NaN     00:00:00      None         None  00:00:06           6   \n",
      "\n",
      "  AveCPUFreq AveDiskRead MaxDiskRead MaxDiskReadNode  MaxDiskReadTask AveDiskWrite MaxDiskWrite MaxDiskWriteNode  MaxDiskWriteTask AvePages  \\\n",
      "0      4.26M    1877499M    1877499M     comet-25-17              0.0      245609M      245609M      comet-25-17               0.0     237K   \n",
      "1      3.15M    2711840M    2711840M     comet-15-57              0.0      328764M      328764M      comet-15-57               0.0     243K   \n",
      "2       None        None        None            None              NaN         None         None             None               NaN     None   \n",
      "3       None        None        None            None              NaN         None         None             None               NaN     None   \n",
      "4       None        None        None            None              NaN         None         None             None               NaN     None   \n",
      "\n",
      "  MaxPages MaxPagesNode  MaxPagesTask    AveRss     MaxRSS   MaxRSSNode  MaxRSSTask  AveVMSize  MaxVMSize MaxVMSizeNode  MaxVMSizeTask  \\\n",
      "0     237K  comet-25-17           0.0  9748300K  10049932K  comet-25-17         0.0  17100848K  19919716K   comet-25-17            0.0   \n",
      "1     243K  comet-15-57           0.0  9842108K  10940836K  comet-15-57         0.0  18116892K  22811936K   comet-15-57            0.0   \n",
      "2     None         None           NaN      None       None         None         NaN       None       None          None            NaN   \n",
      "3     None         None           NaN      None       None         None         NaN       None       None          None            NaN   \n",
      "4     None         None           NaN      None       None         None         NaN       None       None          None            NaN   \n",
      "\n",
      "   ConsumedEnergy  ConsumedEnergyRaw   Layout  Comment          NodeList  \n",
      "0             0.0                0.0  Unknown      NaN       comet-25-17  \n",
      "1             0.0                0.0  Unknown      NaN       comet-15-57  \n",
      "2             NaN                NaN    Block      NaN       comet-02-01  \n",
      "3             NaN                NaN    Block      NaN  comet-05-[65,70]  \n",
      "4             NaN                NaN    Block      NaN       comet-04-64   \n",
      "\n",
      "\n"
     ]
    },
    {
     "data": {
      "text/html": [
       "<div><strong>Dask DataFrame Structure:</strong></div>\n",
       "<div>\n",
       "<style scoped>\n",
       "    .dataframe tbody tr th:only-of-type {\n",
       "        vertical-align: middle;\n",
       "    }\n",
       "\n",
       "    .dataframe tbody tr th {\n",
       "        vertical-align: top;\n",
       "    }\n",
       "\n",
       "    .dataframe thead th {\n",
       "        text-align: right;\n",
       "    }\n",
       "</style>\n",
       "<table border=\"1\" class=\"dataframe\">\n",
       "  <thead>\n",
       "    <tr style=\"text-align: right;\">\n",
       "      <th></th>\n",
       "      <th>Unnamed: 0</th>\n",
       "      <th>Unnamed: 0.1</th>\n",
       "      <th>JobIDRaw</th>\n",
       "      <th>UID</th>\n",
       "      <th>GID</th>\n",
       "      <th>AssocID</th>\n",
       "      <th>User</th>\n",
       "      <th>Group</th>\n",
       "      <th>Reservation</th>\n",
       "      <th>ReservationId</th>\n",
       "      <th>Partition</th>\n",
       "      <th>QOS</th>\n",
       "      <th>QOSRAW</th>\n",
       "      <th>NNODES</th>\n",
       "      <th>NTASKS</th>\n",
       "      <th>NCPUS</th>\n",
       "      <th>AllocCPUS</th>\n",
       "      <th>ReqCPUS</th>\n",
       "      <th>Timelimit</th>\n",
       "      <th>Priority</th>\n",
       "      <th>DerivedExitCode</th>\n",
       "      <th>Time</th>\n",
       "      <th>MinCPUTask</th>\n",
       "      <th>ResvCPURaw</th>\n",
       "      <th>CPUTimeRaw</th>\n",
       "      <th>MaxDiskReadTask</th>\n",
       "      <th>MaxDiskWriteTask</th>\n",
       "      <th>MaxPagesTask</th>\n",
       "      <th>MaxRSSTask</th>\n",
       "      <th>MaxVMSizeTask</th>\n",
       "      <th>ConsumedEnergy</th>\n",
       "      <th>ConsumedEnergyRaw</th>\n",
       "      <th>Comment</th>\n",
       "    </tr>\n",
       "    <tr>\n",
       "      <th>npartitions=1</th>\n",
       "      <th></th>\n",
       "      <th></th>\n",
       "      <th></th>\n",
       "      <th></th>\n",
       "      <th></th>\n",
       "      <th></th>\n",
       "      <th></th>\n",
       "      <th></th>\n",
       "      <th></th>\n",
       "      <th></th>\n",
       "      <th></th>\n",
       "      <th></th>\n",
       "      <th></th>\n",
       "      <th></th>\n",
       "      <th></th>\n",
       "      <th></th>\n",
       "      <th></th>\n",
       "      <th></th>\n",
       "      <th></th>\n",
       "      <th></th>\n",
       "      <th></th>\n",
       "      <th></th>\n",
       "      <th></th>\n",
       "      <th></th>\n",
       "      <th></th>\n",
       "      <th></th>\n",
       "      <th></th>\n",
       "      <th></th>\n",
       "      <th></th>\n",
       "      <th></th>\n",
       "      <th></th>\n",
       "      <th></th>\n",
       "      <th></th>\n",
       "    </tr>\n",
       "  </thead>\n",
       "  <tbody>\n",
       "    <tr>\n",
       "      <th></th>\n",
       "      <td>float64</td>\n",
       "      <td>float64</td>\n",
       "      <td>float64</td>\n",
       "      <td>float64</td>\n",
       "      <td>float64</td>\n",
       "      <td>float64</td>\n",
       "      <td>float64</td>\n",
       "      <td>float64</td>\n",
       "      <td>float64</td>\n",
       "      <td>float64</td>\n",
       "      <td>float64</td>\n",
       "      <td>float64</td>\n",
       "      <td>float64</td>\n",
       "      <td>float64</td>\n",
       "      <td>float64</td>\n",
       "      <td>float64</td>\n",
       "      <td>float64</td>\n",
       "      <td>float64</td>\n",
       "      <td>float64</td>\n",
       "      <td>float64</td>\n",
       "      <td>float64</td>\n",
       "      <td>float64</td>\n",
       "      <td>float64</td>\n",
       "      <td>float64</td>\n",
       "      <td>float64</td>\n",
       "      <td>float64</td>\n",
       "      <td>float64</td>\n",
       "      <td>float64</td>\n",
       "      <td>float64</td>\n",
       "      <td>float64</td>\n",
       "      <td>float64</td>\n",
       "      <td>float64</td>\n",
       "      <td>float64</td>\n",
       "    </tr>\n",
       "    <tr>\n",
       "      <th></th>\n",
       "      <td>...</td>\n",
       "      <td>...</td>\n",
       "      <td>...</td>\n",
       "      <td>...</td>\n",
       "      <td>...</td>\n",
       "      <td>...</td>\n",
       "      <td>...</td>\n",
       "      <td>...</td>\n",
       "      <td>...</td>\n",
       "      <td>...</td>\n",
       "      <td>...</td>\n",
       "      <td>...</td>\n",
       "      <td>...</td>\n",
       "      <td>...</td>\n",
       "      <td>...</td>\n",
       "      <td>...</td>\n",
       "      <td>...</td>\n",
       "      <td>...</td>\n",
       "      <td>...</td>\n",
       "      <td>...</td>\n",
       "      <td>...</td>\n",
       "      <td>...</td>\n",
       "      <td>...</td>\n",
       "      <td>...</td>\n",
       "      <td>...</td>\n",
       "      <td>...</td>\n",
       "      <td>...</td>\n",
       "      <td>...</td>\n",
       "      <td>...</td>\n",
       "      <td>...</td>\n",
       "      <td>...</td>\n",
       "      <td>...</td>\n",
       "      <td>...</td>\n",
       "    </tr>\n",
       "  </tbody>\n",
       "</table>\n",
       "</div>\n",
       "<div>Dask Name: describe-numeric, 151 tasks</div>"
      ],
      "text/plain": [
       "Dask DataFrame Structure:\n",
       "              Unnamed: 0 Unnamed: 0.1 JobIDRaw      UID      GID  AssocID     User    Group Reservation ReservationId Partition      QOS   QOSRAW   NNODES   NTASKS    NCPUS AllocCPUS  ReqCPUS Timelimit Priority DerivedExitCode     Time MinCPUTask ResvCPURaw CPUTimeRaw MaxDiskReadTask MaxDiskWriteTask MaxPagesTask MaxRSSTask MaxVMSizeTask ConsumedEnergy ConsumedEnergyRaw  Comment\n",
       "npartitions=1                                                                                                                                                                                                                                                                                                                                                                                \n",
       "                 float64      float64  float64  float64  float64  float64  float64  float64     float64       float64   float64  float64  float64  float64  float64  float64   float64  float64   float64  float64         float64  float64    float64    float64    float64         float64          float64      float64    float64       float64        float64           float64  float64\n",
       "                     ...          ...      ...      ...      ...      ...      ...      ...         ...           ...       ...      ...      ...      ...      ...      ...       ...      ...       ...      ...             ...      ...        ...        ...        ...             ...              ...          ...        ...           ...            ...               ...      ...\n",
       "Dask Name: describe-numeric, 151 tasks"
      ]
     },
     "execution_count": 3,
     "metadata": {},
     "output_type": "execute_result"
    }
   ],
   "source": [
    "pd.set_option('display.max.columns', None)\n",
    "pd.set_option('display.width', 150)\n",
    "print(df.shape,'\\n\\n')\n",
    "print(df.head(),'\\n\\n')\n",
    "df.describe()"
   ]
  },
  {
   "cell_type": "code",
   "execution_count": 4,
   "metadata": {},
   "outputs": [
    {
     "name": "stdout",
     "output_type": "stream",
     "text": [
      "[24, 24, 8, 12, 6, 12, 6, 8, 24, 24]\n",
      "[33, 40, 14, 23, 16, 18, 17, 15, 44, 58]\n",
      "Dask Series Structure:\n",
      "npartitions=1\n",
      "    int64\n",
      "      ...\n",
      "Name: Timelimit, dtype: int64\n",
      "Dask Name: getitem, 7 tasks\n"
     ]
    },
    {
     "data": {
      "text/plain": [
       "['/oasis/scratch/comet/dougfe/temp_project/projects/sacctNotebook/cometnb/df_sacctFix.csv/0.part']"
      ]
     },
     "execution_count": 4,
     "metadata": {},
     "output_type": "execute_result"
    }
   ],
   "source": [
    "# Example of populating empty column with new data\n",
    "\n",
    "runTimes = df['CPUTimeRaw'].compute().tolist()\n",
    "\n",
    "limitExamples = []\n",
    "for time in runTimes:\n",
    "    newTime = round((time+randint(0,100)/10)*(1+randint(0,100)/100))\n",
    "    limitExamples.append(newTime)\n",
    "\n",
    "print(runTimes[:10])\n",
    "print(limitExamples[:10])\n",
    "df['Timelimit'] = fa(limitExamples)\n",
    "print(df['Timelimit'])\n",
    "dd.to_csv(df,'df_sacctFix.csv')"
   ]
  },
  {
   "cell_type": "code",
   "execution_count": 5,
   "metadata": {},
   "outputs": [],
   "source": [
    "# Time wasted query\n",
    "timeWaste = []\n",
    "timeEff = []\n",
    "\n",
    "timeLimit = df['Timelimit'].compute().tolist()\n",
    "cpuTime = df['CPUTimeRaw'].compute().tolist()\n",
    "    #timeEff.append(round(100*(value/df['Timelimit'].compute().tolist()[ind])))\n"
   ]
  },
  {
   "cell_type": "code",
   "execution_count": 6,
   "metadata": {},
   "outputs": [],
   "source": [
    "for ind, value in enumerate(cpuTime):\n",
    "    timeWaste.append(timeLimit[ind] - value)"
   ]
  },
  {
   "cell_type": "code",
   "execution_count": null,
   "metadata": {
    "tags": []
   },
   "outputs": [],
   "source": [
    "print(df['CPUTimeRaw'].compute().tolist()[:10])\n",
    "print(df['Timelimit'].compute().tolist()[:10])\n",
    "print((timeWaste)[:10])"
   ]
  },
  {
   "cell_type": "code",
   "execution_count": null,
   "metadata": {},
   "outputs": [],
   "source": [
    "# Load in an old query rather than build a new one\n",
    "queryDF = pd.read_parquet('sacctQuery.parquet')"
   ]
  },
  {
   "cell_type": "code",
   "execution_count": null,
   "metadata": {},
   "outputs": [],
   "source": [
    "# Construct dictionary and pandas df with old and new data to display query\n",
    "#newCatDir = {'CPUTimeRaw':df['CPUTimeRaw'].compute().tolist(), 'TimeLimit':df['Timelimit'].compute().tolist(), 'TimeWaste': timeWaste}\n",
    "newCatDir = {'JobIDRaw': df['JobIDRaw'],'CPUTimeRaw': df['CPUTimeRaw'], 'TimeLimit': df['Timelimit'], 'TimeWaste': timeWaste}#, 'TimeEff%': timeEff}\n",
    "\n",
    "queryDF = pd.DataFrame(newCatDir)"
   ]
  },
  {
   "cell_type": "code",
   "execution_count": null,
   "metadata": {},
   "outputs": [],
   "source": [
    "# Display query dataframe preview\n",
    "queryDF.head(50)"
   ]
  },
  {
   "cell_type": "code",
   "execution_count": null,
   "metadata": {},
   "outputs": [],
   "source": [
    "queryDF.describe()"
   ]
  },
  {
   "cell_type": "code",
   "execution_count": null,
   "metadata": {},
   "outputs": [],
   "source": [
    "# Sorting query df\n",
    "queryDF.sort_values('TimeWaste', ascending=False)"
   ]
  },
  {
   "cell_type": "code",
   "execution_count": null,
   "metadata": {},
   "outputs": [],
   "source": [
    "# Query save system: If desired, users can save their current query as a parquet file for use later\n",
    "\n",
    "saveName = 'sacctQuery'  # Doesn't need to include the .parqet or .csv extension\n",
    "queryDF.to_parquet(saveName+'.parquet')\n"
   ]
  }
 ],
 "metadata": {
  "kernelspec": {
   "display_name": "Python 3",
   "language": "python",
   "name": "python3"
  },
  "language_info": {
   "codemirror_mode": {
    "name": "ipython",
    "version": 3
   },
   "file_extension": ".py",
   "mimetype": "text/x-python",
   "name": "python",
   "nbconvert_exporter": "python",
   "pygments_lexer": "ipython3",
   "version": "3.8.5"
  },
  "metadata": {
   "interpreter": {
    "hash": "d7d9aa35b18fbbc398ea1da1be91edbfb855c5f684567d0407810204125d68d0"
   }
  }
 },
 "nbformat": 4,
 "nbformat_minor": 4
}
