{
 "cells": [
  {
   "cell_type": "code",
   "execution_count": 1,
   "metadata": {},
   "outputs": [],
   "source": [
    "import sacct\n",
    "import pandas as pd\n",
    "import seaborn as sns\n",
    "import matplotlib.pyplot as plt\n",
    "from time import time\n",
    "import os\n",
    "import dask.dataframe as dd\n",
    "from random import randint\n",
    "import numpy as np\n",
    "from dask.array import from_array as fa\n",
    "\n",
    "sourceFile = '5000mb.csv'  # Source of sacct data if using offline mode.\n",
    "\n",
    "from dask_jobqueue import SLURMCluster\n",
    "from dask.distributed import Client\n",
    "\n",
    "#cluster = SLURMCluster() #add arguments if want a cluster outside of the set up defult\n",
    "cluster = SLURMCluster(cores=24, processes=6, walltime=\"1:00:00\", queue=\"compute\", memory= \"120GB\")"
   ]
  },
  {
   "cell_type": "code",
   "execution_count": 2,
   "metadata": {},
   "outputs": [],
   "source": [
    "cluster.scale(jobs=2)"
   ]
  },
  {
   "cell_type": "code",
   "execution_count": 3,
   "metadata": {},
   "outputs": [
    {
     "data": {
      "text/html": [
       "<table style=\"border: 2px solid white;\">\n",
       "<tr>\n",
       "<td style=\"vertical-align: top; border: 0px solid white\">\n",
       "<h3 style=\"text-align: left;\">Client</h3>\n",
       "<ul style=\"text-align: left; list-style: none; margin: 0; padding: 0;\">\n",
       "  <li><b>Scheduler: </b>tcp://10.22.254.12:38641</li>\n",
       "  <li><b>Dashboard: </b><a href='http://10.22.254.12:8787/status' target='_blank'>http://10.22.254.12:8787/status</a></li>\n",
       "</ul>\n",
       "</td>\n",
       "<td style=\"vertical-align: top; border: 0px solid white\">\n",
       "<h3 style=\"text-align: left;\">Cluster</h3>\n",
       "<ul style=\"text-align: left; list-style:none; margin: 0; padding: 0;\">\n",
       "  <li><b>Workers: </b>12</li>\n",
       "  <li><b>Cores: </b>48</li>\n",
       "  <li><b>Memory: </b>240.00 GB</li>\n",
       "</ul>\n",
       "</td>\n",
       "</tr>\n",
       "</table>"
      ],
      "text/plain": [
       "<Client: 'tcp://10.22.254.12:38641' processes=12 threads=48, memory=240.00 GB>"
      ]
     },
     "execution_count": 3,
     "metadata": {},
     "output_type": "execute_result"
    }
   ],
   "source": [
    "client = Client(cluster)\n",
    "client"
   ]
  },
  {
   "cell_type": "code",
   "execution_count": 4,
   "metadata": {},
   "outputs": [],
   "source": [
    "df = dd.read_csv(sourceFile)\n",
    "#df = dd.read_parquet(sourceFile)  # For if you're smart and use parquet files instead of csvs"
   ]
  },
  {
   "cell_type": "code",
   "execution_count": 5,
   "metadata": {},
   "outputs": [
    {
     "name": "stdout",
     "output_type": "stream",
     "text": [
      "(Delayed('int-7e69a961-7e77-4f4a-aec6-a88a882b38ca'), 76) \n",
      "\n",
      "\n",
      "   Unnamed: 0  JobIDRaw   step           JobID  UID  GID  AssocID  Cluster          JobName  User  Group  Account  Reservation  ReservationId  \\\n",
      "0         NaN  JobIDRaw   step           JobID  UID  GID  AssocID  Cluster          JobName  User  Group  Account  Reservation  ReservationId   \n",
      "1    177868.0  33929685  batch  33929685.batch  NaN  NaN    14492    comet            batch   NaN    NaN   mit136          NaN            NaN   \n",
      "2     12583.0  33809406  batch  33809406.batch  NaN  NaN    20768    comet            batch   NaN    NaN   sio124          NaN            NaN   \n",
      "3      1516.0  33781793     45     33781793.45  NaN  NaN    20917    comet  hydra_pmi_proxy   NaN    NaN   csd606          NaN            NaN   \n",
      "4    115172.0  33883732  batch  33883732.batch  NaN  NaN    22537    comet            batch   NaN    NaN   uok114          NaN            NaN   \n",
      "\n",
      "   Partition  QOS  QOSRAW  NNODES  NTASKS  NCPUS  AllocCPUS  ReqCPUS  ReqCPUFreq  ReqMem  ReqGRES  AllocGRES  Timelimit  Priority      State  \\\n",
      "0  Partition  QOS  QOSRAW  NNODES  NTASKS  NCPUS  AllocCPUS  ReqCPUS  ReqCPUFreq  ReqMem  ReqGRES  AllocGRES  Timelimit  Priority      State   \n",
      "1        NaN  NaN     NaN       1       1      8          8        8           0  4000Mc      NaN        NaN        NaN       NaN  COMPLETED   \n",
      "2        NaN  NaN     NaN       1       1      1          1        1           0    10Gn      NaN        NaN        NaN       NaN  COMPLETED   \n",
      "3        NaN  NaN     NaN       2       2      2          2        2     Unknown   120Gn      NaN        NaN        NaN       NaN  COMPLETED   \n",
      "4        NaN  NaN     NaN       1       1      1          1        1           0     5Gc      NaN        NaN        NaN       NaN  COMPLETED   \n",
      "\n",
      "   ExitCode  DerivedExitCode               Submit             Eligible                Start                  End  Time   Elapsed  Reserved  \\\n",
      "0  ExitCode  DerivedExitCode               Submit             Eligible                Start                  End  Time   Elapsed  Reserved   \n",
      "1       0:0              NaN  2020-06-05T17:00:05  2020-06-05T17:00:05  2020-06-05T17:00:05  2020-06-05T17:08:08   NaN  00:08:03   INVALID   \n",
      "2       0:0              NaN  2020-06-01T04:37:51  2020-06-01T04:37:51  2020-06-01T04:37:51  2020-06-01T04:38:51   NaN  00:01:00   INVALID   \n",
      "3       0:0              NaN  2020-06-01T00:00:00  2020-06-01T00:00:00  2020-06-01T00:00:00  2020-05-31T17:54:21   NaN  00:00:00   INVALID   \n",
      "4       0:0              NaN  2020-06-03T16:35:41  2020-06-03T16:35:41  2020-06-03T16:35:41  2020-06-03T16:37:47   NaN  00:02:06   INVALID   \n",
      "\n",
      "   Suspended    AveCPU    MinCPU   MinCPUNode  MinCPUTask  ResvCPU  ResvCPURaw   TotalCPU  SystemCPU    UserCPU   CPUTime  CPUTimeRaw  AveCPUFreq  \\\n",
      "0  Suspended    AveCPU    MinCPU   MinCPUNode  MinCPUTask  ResvCPU  ResvCPURaw   TotalCPU  SystemCPU    UserCPU   CPUTime  CPUTimeRaw  AveCPUFreq   \n",
      "1   00:00:00  00:50:56  00:50:56  comet-06-72         0.0  INVALID         NaN   01:03:06  00:37.238   01:02:29  01:04:24        3864      69.54M   \n",
      "2   00:00:00  00:00:14  00:00:14  comet-04-40         0.0  INVALID         NaN  00:33.047  00:04.180  00:28.866  00:01:00          60       2.80G   \n",
      "3   00:00:00  04:23:39  04:23:37  comet-27-47         0.0  INVALID         NaN   08:51:44  22:56.666   08:28:47  00:00:00           0     126.96M   \n",
      "4   00:00:00  00:00:46  00:00:46  comet-06-52         0.0  INVALID         NaN  00:56.617  00:04.872  00:51.745  00:02:06         126       2.83G   \n",
      "\n",
      "   AveDiskRead  MaxDiskRead  MaxDiskReadNode  MaxDiskReadTask  AveDiskWrite  MaxDiskWrite  MaxDiskWriteNode  MaxDiskWriteTask  AvePages  MaxPages  \\\n",
      "0  AveDiskRead  MaxDiskRead  MaxDiskReadNode  MaxDiskReadTask  AveDiskWrite  MaxDiskWrite  MaxDiskWriteNode  MaxDiskWriteTask  AvePages  MaxPages   \n",
      "1        6436M        6436M      comet-06-72              0.0          932M          932M       comet-06-72               0.0       21K      467K   \n",
      "2          94M          94M      comet-04-40              0.0           41M           41M       comet-04-40               0.0         0         0   \n",
      "3        4556M        4579M      comet-27-47              0.0        10360M        10383M       comet-27-47               0.0         0         0   \n",
      "4        6745M        6745M      comet-06-52              0.0         0.09M         0.09M       comet-06-52               0.0         0         0   \n",
      "\n",
      "   MaxPagesNode  MaxPagesTask    AveRss    MaxRSS   MaxRSSNode  MaxRSSTask  AveVMSize  MaxVMSize  MaxVMSizeNode  MaxVMSizeTask  ConsumedEnergy  \\\n",
      "0  MaxPagesNode  MaxPagesTask    AveRss    MaxRSS   MaxRSSNode  MaxRSSTask  AveVMSize  MaxVMSize  MaxVMSizeNode  MaxVMSizeTask  ConsumedEnergy   \n",
      "1   comet-06-72           0.0  4912240K  4912240K  comet-06-72         0.0   8688048K   8688048K    comet-06-72            0.0             0.0   \n",
      "2   comet-04-40           0.0  1001004K  1001004K  comet-04-40         0.0   1555392K   1555392K    comet-04-40            0.0             0.0   \n",
      "3   comet-27-48           1.0  1581966K  1696836K  comet-27-47         0.0  18924780K  19064288K    comet-27-47            0.0             0.0   \n",
      "4   comet-06-52           0.0   786004K   786004K  comet-06-52         0.0   4999956K   4999956K    comet-06-52            0.0             0.0   \n",
      "\n",
      "   ConsumedEnergyRaw   Layout  Comment          NodeList  \n",
      "0  ConsumedEnergyRaw   Layout  Comment          NodeList  \n",
      "1                0.0  Unknown      NaN       comet-06-72  \n",
      "2                0.0  Unknown      NaN       comet-04-40  \n",
      "3                0.0   Cyclic      NaN  comet-27-[47-48]  \n",
      "4                0.0  Unknown      NaN       comet-06-52   \n",
      "\n",
      "\n"
     ]
    },
    {
     "data": {
      "text/html": [
       "<div><strong>Dask DataFrame Structure:</strong></div>\n",
       "<div>\n",
       "<style scoped>\n",
       "    .dataframe tbody tr th:only-of-type {\n",
       "        vertical-align: middle;\n",
       "    }\n",
       "\n",
       "    .dataframe tbody tr th {\n",
       "        vertical-align: top;\n",
       "    }\n",
       "\n",
       "    .dataframe thead th {\n",
       "        text-align: right;\n",
       "    }\n",
       "</style>\n",
       "<table border=\"1\" class=\"dataframe\">\n",
       "  <thead>\n",
       "    <tr style=\"text-align: right;\">\n",
       "      <th></th>\n",
       "      <th>Unnamed: 0</th>\n",
       "    </tr>\n",
       "    <tr>\n",
       "      <th>npartitions=1</th>\n",
       "      <th></th>\n",
       "    </tr>\n",
       "  </thead>\n",
       "  <tbody>\n",
       "    <tr>\n",
       "      <th></th>\n",
       "      <td>float64</td>\n",
       "    </tr>\n",
       "    <tr>\n",
       "      <th></th>\n",
       "      <td>...</td>\n",
       "    </tr>\n",
       "  </tbody>\n",
       "</table>\n",
       "</div>\n",
       "<div>Dask Name: describe-numeric, 986 tasks</div>"
      ],
      "text/plain": [
       "Dask DataFrame Structure:\n",
       "              Unnamed: 0\n",
       "npartitions=1           \n",
       "                 float64\n",
       "                     ...\n",
       "Dask Name: describe-numeric, 986 tasks"
      ]
     },
     "execution_count": 5,
     "metadata": {},
     "output_type": "execute_result"
    }
   ],
   "source": [
    "pd.set_option('display.max.columns', None)\n",
    "pd.set_option('display.width', 150)\n",
    "print(df.shape,'\\n\\n')\n",
    "print(df.head(),'\\n\\n')\n",
    "df.describe()"
   ]
  },
  {
   "cell_type": "code",
   "execution_count": 6,
   "metadata": {},
   "outputs": [
    {
     "ename": "TypeError",
     "evalue": "can only concatenate str (not \"float\") to str",
     "output_type": "error",
     "traceback": [
      "\u001b[0;31m---------------------------------------------------------------------------\u001b[0m",
      "\u001b[0;31mTypeError\u001b[0m                                 Traceback (most recent call last)",
      "\u001b[0;32m<ipython-input-6-4209c60b0238>\u001b[0m in \u001b[0;36m<module>\u001b[0;34m\u001b[0m\n\u001b[1;32m      5\u001b[0m \u001b[0mlimitExamples\u001b[0m \u001b[0;34m=\u001b[0m \u001b[0;34m[\u001b[0m\u001b[0;34m]\u001b[0m\u001b[0;34m\u001b[0m\u001b[0;34m\u001b[0m\u001b[0m\n\u001b[1;32m      6\u001b[0m \u001b[0;32mfor\u001b[0m \u001b[0mtime\u001b[0m \u001b[0;32min\u001b[0m \u001b[0mrunTimes\u001b[0m\u001b[0;34m:\u001b[0m\u001b[0;34m\u001b[0m\u001b[0;34m\u001b[0m\u001b[0m\n\u001b[0;32m----> 7\u001b[0;31m     \u001b[0mnewTime\u001b[0m \u001b[0;34m=\u001b[0m \u001b[0mround\u001b[0m\u001b[0;34m(\u001b[0m\u001b[0;34m(\u001b[0m\u001b[0mtime\u001b[0m\u001b[0;34m+\u001b[0m\u001b[0mrandint\u001b[0m\u001b[0;34m(\u001b[0m\u001b[0;36m0\u001b[0m\u001b[0;34m,\u001b[0m\u001b[0;36m100\u001b[0m\u001b[0;34m)\u001b[0m\u001b[0;34m/\u001b[0m\u001b[0;36m10\u001b[0m\u001b[0;34m)\u001b[0m\u001b[0;34m*\u001b[0m\u001b[0;34m(\u001b[0m\u001b[0;36m1\u001b[0m\u001b[0;34m+\u001b[0m\u001b[0mrandint\u001b[0m\u001b[0;34m(\u001b[0m\u001b[0;36m0\u001b[0m\u001b[0;34m,\u001b[0m\u001b[0;36m100\u001b[0m\u001b[0;34m)\u001b[0m\u001b[0;34m/\u001b[0m\u001b[0;36m100\u001b[0m\u001b[0;34m)\u001b[0m\u001b[0;34m)\u001b[0m\u001b[0;34m\u001b[0m\u001b[0;34m\u001b[0m\u001b[0m\n\u001b[0m\u001b[1;32m      8\u001b[0m     \u001b[0mlimitExamples\u001b[0m\u001b[0;34m.\u001b[0m\u001b[0mappend\u001b[0m\u001b[0;34m(\u001b[0m\u001b[0mnewTime\u001b[0m\u001b[0;34m)\u001b[0m\u001b[0;34m\u001b[0m\u001b[0;34m\u001b[0m\u001b[0m\n\u001b[1;32m      9\u001b[0m \u001b[0;34m\u001b[0m\u001b[0m\n",
      "\u001b[0;31mTypeError\u001b[0m: can only concatenate str (not \"float\") to str"
     ]
    }
   ],
   "source": [
    "# Example of populating empty column with new data\n",
    "\n",
    "runTimes = df['CPUTimeRaw'].compute().tolist()\n",
    "\n",
    "limitExamples = []\n",
    "for time in runTimes:\n",
    "    newTime = round((time+randint(0,100)/10)*(1+randint(0,100)/100))\n",
    "    limitExamples.append(newTime)\n",
    "\n",
    "print(runTimes[:10])\n",
    "print(limitExamples[:10])\n",
    "df['Timelimit'] = fa(limitExamples)\n",
    "print(df['Timelimit'])\n",
    "dd.to_csv(df,'df_sacctFix.csv')"
   ]
  },
  {
   "cell_type": "code",
   "execution_count": null,
   "metadata": {},
   "outputs": [],
   "source": [
    "%%time\n",
    "# Time wasted query\n",
    "timeWaste = []\n",
    "timeEff = []\n",
    "\n",
    "timeLimit = df['Timelimit'].compute().tolist()\n",
    "cpuTime = df['CPUTimeRaw'].compute().tolist()\n",
    "\n",
    "    #timeEff.append(round(100*(value/df['Timelimit'].compute().tolist()[ind])))"
   ]
  },
  {
   "cell_type": "code",
   "execution_count": null,
   "metadata": {},
   "outputs": [],
   "source": [
    "%%time\n",
    "for ind, value in enumerate(cpuTime):\n",
    "    timeWaste.append(timeLimit[ind] - value)"
   ]
  },
  {
   "cell_type": "code",
   "execution_count": null,
   "metadata": {
    "tags": []
   },
   "outputs": [],
   "source": [
    "print(cpuTime[:10])\n",
    "print(timeLimit[:10])\n",
    "print((timeWaste)[:10])"
   ]
  },
  {
   "cell_type": "code",
   "execution_count": null,
   "metadata": {},
   "outputs": [],
   "source": [
    "# Load in an old query rather than build a new one\n",
    "queryDF = pd.read_parquet('sacctQuery.parquet')"
   ]
  },
  {
   "cell_type": "code",
   "execution_count": null,
   "metadata": {},
   "outputs": [],
   "source": [
    "# Construct dictionary and pandas df with old and new data to display query\n",
    "#newCatDir = {'CPUTimeRaw':df['CPUTimeRaw'].compute().tolist(), 'TimeLimit':df['Timelimit'].compute().tolist(), 'TimeWaste': timeWaste}\n",
    "newCatDir = {'JobIDRaw': df['JobIDRaw'],'CPUTimeRaw': df['CPUTimeRaw'], 'TimeLimit': df['Timelimit'], 'TimeWaste': timeWaste}#, 'TimeEff%': timeEff}\n",
    "\n",
    "queryDF = pd.DataFrame(newCatDir)"
   ]
  },
  {
   "cell_type": "code",
   "execution_count": null,
   "metadata": {},
   "outputs": [],
   "source": [
    "# Display query dataframe preview\n",
    "queryDF.head(50)"
   ]
  },
  {
   "cell_type": "code",
   "execution_count": null,
   "metadata": {},
   "outputs": [],
   "source": [
    "queryDF.describe()"
   ]
  },
  {
   "cell_type": "code",
   "execution_count": null,
   "metadata": {},
   "outputs": [],
   "source": [
    "# Sorting query df\n",
    "queryDF.sort_values('TimeWaste', ascending=False)"
   ]
  },
  {
   "cell_type": "code",
   "execution_count": null,
   "metadata": {},
   "outputs": [],
   "source": [
    "# Query save system: If desired, users can save their current query as a parquet file for use later\n",
    "\n",
    "saveName = 'sacctQuery'  # Doesn't need to include the .parqet or .csv extension\n",
    "queryDF.to_parquet(saveName+'.parquet')\n"
   ]
  }
 ],
 "metadata": {
  "kernelspec": {
   "display_name": "Python 3",
   "language": "python",
   "name": "python3"
  },
  "language_info": {
   "codemirror_mode": {
    "name": "ipython",
    "version": 3
   },
   "file_extension": ".py",
   "mimetype": "text/x-python",
   "name": "python",
   "nbconvert_exporter": "python",
   "pygments_lexer": "ipython3",
   "version": "3.8.5"
  },
  "metadata": {
   "interpreter": {
    "hash": "d7d9aa35b18fbbc398ea1da1be91edbfb855c5f684567d0407810204125d68d0"
   }
  }
 },
 "nbformat": 4,
 "nbformat_minor": 4
}
