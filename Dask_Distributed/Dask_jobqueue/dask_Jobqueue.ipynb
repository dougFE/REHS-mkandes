{
 "cells": [
  {
   "cell_type": "code",
   "execution_count": 1,
   "id": "atomic-victory",
   "metadata": {},
   "outputs": [],
   "source": [
    "from dask_jobqueue import SLURMCluster\n",
    "cluster = SLURMCluster() #add arguments if want a cluster outside of the set up defult\n"
   ]
  },
  {
   "cell_type": "code",
   "execution_count": 2,
   "id": "patent-cycling",
   "metadata": {},
   "outputs": [],
   "source": [
    "cluster.scale(2) #scale to however many nodes wanted"
   ]
  },
  {
   "cell_type": "code",
   "execution_count": 3,
   "id": "narrow-siemens",
   "metadata": {},
   "outputs": [
    {
     "data": {
      "text/html": [
       "<table style=\"border: 2px solid white;\">\n",
       "<tr>\n",
       "<td style=\"vertical-align: top; border: 0px solid white\">\n",
       "<h3 style=\"text-align: left;\">Client</h3>\n",
       "<ul style=\"text-align: left; list-style: none; margin: 0; padding: 0;\">\n",
       "  <li><b>Scheduler: </b>tcp://10.22.2.2:43323</li>\n",
       "  <li><b>Dashboard: </b><a href='http://10.22.2.2:8787/status' target='_blank'>http://10.22.2.2:8787/status</a></li>\n",
       "</ul>\n",
       "</td>\n",
       "<td style=\"vertical-align: top; border: 0px solid white\">\n",
       "<h3 style=\"text-align: left;\">Cluster</h3>\n",
       "<ul style=\"text-align: left; list-style:none; margin: 0; padding: 0;\">\n",
       "  <li><b>Workers: </b>0</li>\n",
       "  <li><b>Cores: </b>0</li>\n",
       "  <li><b>Memory: </b>0 B</li>\n",
       "</ul>\n",
       "</td>\n",
       "</tr>\n",
       "</table>"
      ],
      "text/plain": [
       "<Client: 'tcp://10.22.2.2:43323' processes=0 threads=0, memory=0 B>"
      ]
     },
     "execution_count": 3,
     "metadata": {},
     "output_type": "execute_result"
    }
   ],
   "source": [
    "from dask.distributed import Client\n",
    "client = Client(cluster)\n",
    "client"
   ]
  },
  {
   "cell_type": "code",
   "execution_count": 4,
   "id": "qualified-repair",
   "metadata": {},
   "outputs": [
    {
     "data": {
      "text/html": [
       "<table style=\"border: 2px solid white;\">\n",
       "<tr>\n",
       "<td style=\"vertical-align: top; border: 0px solid white\">\n",
       "<h3 style=\"text-align: left;\">Client</h3>\n",
       "<ul style=\"text-align: left; list-style: none; margin: 0; padding: 0;\">\n",
       "  <li><b>Scheduler: </b>tcp://10.22.2.2:43323</li>\n",
       "  <li><b>Dashboard: </b><a href='http://10.22.2.2:8787/status' target='_blank'>http://10.22.2.2:8787/status</a></li>\n",
       "</ul>\n",
       "</td>\n",
       "<td style=\"vertical-align: top; border: 0px solid white\">\n",
       "<h3 style=\"text-align: left;\">Cluster</h3>\n",
       "<ul style=\"text-align: left; list-style:none; margin: 0; padding: 0;\">\n",
       "  <li><b>Workers: </b>2</li>\n",
       "  <li><b>Cores: </b>48</li>\n",
       "  <li><b>Memory: </b>200.00 GB</li>\n",
       "</ul>\n",
       "</td>\n",
       "</tr>\n",
       "</table>"
      ],
      "text/plain": [
       "<Client: 'tcp://10.22.2.2:43323' processes=2 threads=48, memory=200.00 GB>"
      ]
     },
     "execution_count": 4,
     "metadata": {},
     "output_type": "execute_result"
    }
   ],
   "source": [
    "client"
   ]
  },
  {
   "cell_type": "code",
   "execution_count": 5,
   "id": "greenhouse-bathroom",
   "metadata": {},
   "outputs": [],
   "source": [
    "import time\n",
    "\n",
    "from distributed import Client, LocalCluster, as_completed\n"
   ]
  },
  {
   "cell_type": "code",
   "execution_count": 6,
   "id": "interpreted-merchandise",
   "metadata": {},
   "outputs": [],
   "source": [
    "def easy():\n",
    "    time.sleep(1)\n",
    "    print(\"easy\")\n",
    "    return \"easy\"\n",
    "\n",
    "def hard():\n",
    "    time.sleep(5)\n",
    "    print(\"hard\")\n",
    "    return \"hard\"\n",
    "\n",
    "def tast(x):\n",
    "    time.sleep(x)\n",
    "    print(f'task took: {x} seconds' )\n",
    "    return x "
   ]
  },
  {
   "cell_type": "code",
   "execution_count": 7,
   "id": "confirmed-violin",
   "metadata": {},
   "outputs": [
    {
     "name": "stdout",
     "output_type": "stream",
     "text": [
      "hard\n"
     ]
    }
   ],
   "source": [
    "if __name__ == \"__main__\":\n",
    "       \n",
    "        \n",
    "        futures = []\n",
    "        f1 = client.submit(easy) # key = f\"{easy.__name__}{i}\")\n",
    "        for i in range(3):\n",
    "            f1 = client.submit(easy) # key = f\"{easy.__name__}{i}\")\n",
    "            futures.append(f1)\n",
    "            f2 = client.submit(hard) # key = f\"{hard.__name__}{i}\")\n",
    "            futures.append(f2)\n",
    "\n",
    "        completed = as_completed(futures)\n",
    "        \n",
    "        for i in completed:\n",
    "            i.result()\n",
    "\n",
    "        future = client.submit(hard)\n",
    "        future2 = client.submit(easy)\n",
    "        print(future.result())"
   ]
  },
  {
   "cell_type": "code",
   "execution_count": null,
   "id": "quiet-aerospace",
   "metadata": {},
   "outputs": [],
   "source": []
  }
 ],
 "metadata": {
  "kernelspec": {
   "display_name": "Python 3",
   "language": "python",
   "name": "python3"
  },
  "language_info": {
   "codemirror_mode": {
    "name": "ipython",
    "version": 3
   },
   "file_extension": ".py",
   "mimetype": "text/x-python",
   "name": "python",
   "nbconvert_exporter": "python",
   "pygments_lexer": "ipython3",
   "version": "3.7.7"
  }
 },
 "nbformat": 4,
 "nbformat_minor": 5
}
