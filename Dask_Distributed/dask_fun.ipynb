{
 "cells": [
  {
   "cell_type": "code",
   "execution_count": 1,
   "id": "soviet-processing",
   "metadata": {},
   "outputs": [],
   "source": [
    "import time\n",
    "\n",
    "from distributed import Client, LocalCluster, as_completed"
   ]
  },
  {
   "cell_type": "code",
   "execution_count": 13,
   "id": "consolidated-package",
   "metadata": {},
   "outputs": [],
   "source": [
    "def easy():\n",
    "    time.sleep(1)\n",
    "    print(\"easy\")\n",
    "    return \"easy\"\n",
    "\n",
    "def hard():\n",
    "    time.sleep(5)\n",
    "    print(\"hard\")\n",
    "    return \"hard\"\n",
    "\n",
    "def tast(x):\n",
    "    time.sleep(x)\n",
    "    print(f'task took: {x} seconds' )\n",
    "    return x "
   ]
  },
  {
   "cell_type": "code",
   "execution_count": 14,
   "id": "early-thumbnail",
   "metadata": {},
   "outputs": [
    {
     "name": "stdout",
     "output_type": "stream",
     "text": [
      "hard\n",
      "easy\n"
     ]
    }
   ],
   "source": [
    "if __name__ == \"__main__\":\n",
    "        #cluster = LocalCluster()\n",
    "        client = Client(\"tcp://198.202.116.224:8786\")\n",
    "        #client = Client(scheduler_file='~/.dask_scheduler.json')\n",
    "        #client = _get_global_client()\n",
    "        futures = []\n",
    "        f1 = client.submit(easy) # key = f\"{easy.__name__}{i}\")\n",
    "        for i in range(3):\n",
    "            f1 = client.submit(easy) # key = f\"{easy.__name__}{i}\")\n",
    "            futures.append(f1)\n",
    "            f2 = client.submit(hard) # key = f\"{hard.__name__}{i}\")\n",
    "            futures.append(f2)\n",
    "\n",
    "        completed = as_completed(futures)\n",
    "        \n",
    "        for i in completed:\n",
    "            i.result()\n",
    "\n",
    "        futureWorker1 = client.submit(hard, workers = [\"tcp://198.202.115.100:41085\"])\n",
    "        futureWorker2 = client.submit(easy, workers = [\"tcp://198.202.117.100:35657\"])\n",
    "        print(futureWorker1.result())\n",
    "        print(futureWorker2.result())"
   ]
  },
  {
   "cell_type": "code",
   "execution_count": null,
   "id": "senior-washington",
   "metadata": {},
   "outputs": [],
   "source": []
  }
 ],
 "metadata": {
  "kernelspec": {
   "display_name": "Python 3",
   "language": "python",
   "name": "python3"
  },
  "language_info": {
   "codemirror_mode": {
    "name": "ipython",
    "version": 3
   },
   "file_extension": ".py",
   "mimetype": "text/x-python",
   "name": "python",
   "nbconvert_exporter": "python",
   "pygments_lexer": "ipython3",
   "version": "3.7.7"
  }
 },
 "nbformat": 4,
 "nbformat_minor": 5
}
