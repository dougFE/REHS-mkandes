{
 "metadata": {
  "language_info": {
   "codemirror_mode": {
    "name": "ipython",
    "version": 3
   },
   "file_extension": ".py",
   "mimetype": "text/x-python",
   "name": "python",
   "nbconvert_exporter": "python",
   "pygments_lexer": "ipython3",
   "version": "3.6.7"
  },
  "orig_nbformat": 2,
  "kernelspec": {
   "name": "python367jvsc74a57bd0d7d9aa35b18fbbc398ea1da1be91edbfb855c5f684567d0407810204125d68d0",
   "display_name": "Python 3.6.7 64-bit"
  },
  "metadata": {
   "interpreter": {
    "hash": "d7d9aa35b18fbbc398ea1da1be91edbfb855c5f684567d0407810204125d68d0"
   }
  }
 },
 "nbformat": 4,
 "nbformat_minor": 2,
 "cells": [
  {
   "cell_type": "code",
   "execution_count": null,
   "metadata": {},
   "outputs": [],
   "source": [
    "import sacct\n",
    "import pandas as pd\n",
    "import seaborn as sns\n",
    "import matplotlib.pyplot as plt\n",
    "from time import time\n",
    "import os\n",
    "import dask.dataframe as dd\n",
    "from random import randint\n",
    "import numpy as np\n",
    "from dask.array import from_array as fa\n",
    "\n",
    "sourceFile = 'df_sacct.parquet'  # Source of sacct data if using offline mode."
   ]
  },
  {
   "cell_type": "code",
   "execution_count": null,
   "metadata": {},
   "outputs": [],
   "source": [
    "df = dd.read_csv(sourceFile)\n",
    "# df = dd.read_parquet(sourceFile)  # For if you're smart and use parquet files instead of csvs"
   ]
  },
  {
   "cell_type": "code",
   "execution_count": null,
   "metadata": {},
   "outputs": [],
   "source": [
    "pd.set_option('display.max.columns', None)\n",
    "pd.set_option('display.width', 150)\n",
    "print(df.shape,'\\n\\n')\n",
    "print(df.head(),'\\n\\n')\n",
    "df.describe()"
   ]
  },
  {
   "cell_type": "code",
   "execution_count": null,
   "metadata": {},
   "outputs": [],
   "source": [
    "# Example of populating empty column with new data\n",
    "\n",
    "runTimes = df['CPUTimeRaw'].compute().tolist()\n",
    "\n",
    "limitExamples = []\n",
    "for time in runTimes:\n",
    "    newTime = round((time+randint(0,100)/10)*(1+randint(0,100)/100))\n",
    "    limitExamples.append(newTime)\n",
    "\n",
    "print(runTimes[:10])\n",
    "print(limitExamples[:10])\n",
    "df['Timelimit'] = fa(limitExamples)\n",
    "print(df['Timelimit'])\n",
    "dd.to_csv(df,'df_sacctFix.csv')"
   ]
  },
  {
   "cell_type": "code",
   "execution_count": null,
   "metadata": {},
   "outputs": [],
   "source": [
    "# Time wasted query\n",
    "timeWaste = []\n",
    "timeEff = []\n",
    "for ind, value in enumerate(df['CPUTimeRaw'].compute().tolist()):\n",
    "    timeWaste.append(df['Timelimit'].compute().tolist()[ind] - value)\n",
    "    #timeEff.append(round(100*(value/df['Timelimit'].compute().tolist()[ind])))\n"
   ]
  },
  {
   "cell_type": "code",
   "execution_count": null,
   "metadata": {
    "tags": []
   },
   "outputs": [],
   "source": [
    "print(df['CPUTimeRaw'].compute().tolist()[:10])\n",
    "print(df['Timelimit'].compute().tolist()[:10])\n",
    "print((timeWaste)[:10])"
   ]
  },
  {
   "cell_type": "code",
   "execution_count": null,
   "metadata": {},
   "outputs": [],
   "source": [
    "# Load in an old query rather than build a new one\n",
    "queryDF = pd.read_parquet('sacctQuery.parquet')"
   ]
  },
  {
   "cell_type": "code",
   "execution_count": null,
   "metadata": {},
   "outputs": [],
   "source": [
    "# Construct dictionary and pandas df with old and new data to display query\n",
    "#newCatDir = {'CPUTimeRaw':df['CPUTimeRaw'].compute().tolist(), 'TimeLimit':df['Timelimit'].compute().tolist(), 'TimeWaste': timeWaste}\n",
    "newCatDir = {'JobIDRaw': df['JobIDRaw'],'CPUTimeRaw': df['CPUTimeRaw'], 'TimeLimit': df['Timelimit'], 'TimeWaste': timeWaste}#, 'TimeEff%': timeEff}\n",
    "\n",
    "queryDF = pd.DataFrame(newCatDir)"
   ]
  },
  {
   "cell_type": "code",
   "execution_count": null,
   "metadata": {},
   "outputs": [],
   "source": [
    "# Display query dataframe preview\n",
    "queryDF.head(50)"
   ]
  },
  {
   "cell_type": "code",
   "execution_count": null,
   "metadata": {},
   "outputs": [],
   "source": [
    "queryDF.describe()"
   ]
  },
  {
   "cell_type": "code",
   "execution_count": null,
   "metadata": {},
   "outputs": [],
   "source": [
    "# Sorting query df\n",
    "queryDF.sort_values('TimeWaste', ascending=False)"
   ]
  },
  {
   "cell_type": "code",
   "execution_count": null,
   "metadata": {},
   "outputs": [],
   "source": [
    "# Query save system: If desired, users can save their current query as a parquet file for use later\n",
    "\n",
    "saveName = 'sacctQuery'  # Doesn't need to include the .parqet or .csv extension\n",
    "queryDF.to_parquet(saveName+'.parquet')\n"
   ]
  }
 ]
}